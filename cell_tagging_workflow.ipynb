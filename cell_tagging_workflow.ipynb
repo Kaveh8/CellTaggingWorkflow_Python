{
 "cells": [
  {
   "cell_type": "markdown",
   "id": "3944c1d7-14c4-4d65-84c4-0691ef92f6ec",
   "metadata": {},
   "source": [
    "### Do the following steps in bash to get CellTag Matrix Expression\n",
    "1. Download BAM file for samples at day 15\n",
    "2. Extract celltag reads from BAM file\n",
    "3. Parse reads to extract required information\n",
    "I've also added the extracted file in the repository."
   ]
  },
  {
   "cell_type": "code",
   "execution_count": 11,
   "id": "fe5c0279-fd0f-4a63-9f02-02ad810947ee",
   "metadata": {},
   "outputs": [],
   "source": [
    "# #bash\n",
    "# wget https://sra-pub-src-1.s3.amazonaws.com/SRR7347033/hf1.d15.possorted_genome_bam.bam.1\n",
    "\n",
    "# samtools view hf1.d15.possorted_genome_bam.bam | grep -P 'GGT[ACTG]{8}GAATTC' > v1.celltag.reads.out\n",
    "# samtools view hf1.d15.possorted_genome_bam.bam | grep -P 'GTGATG[ACTG]{8}GAATTC' > v2.celltag.reads.out\n",
    "# samtools view hf1.d15.possorted_genome_bam.bam | grep -P 'TGTACG[ACTG]{8}GAATTC' > v3.celltag.reads.out\n",
    "\n",
    "# ./scripts/celltag.parse.reads.10x.sh -v tagregex=\"CCGGT([ACTG]{8})GAATTC\" v1.celltag.reads.out > v1.celltag.parsed.tsv\n",
    "# ./scripts/celltag.parse.reads.10x.sh -v tagregex=\"GTGATG([ACTG]{8})GAATTC\" v2.celltag.reads.out > v2.celltag.parsed.tsv\n",
    "# ./scripts/celltag.parse.reads.10x.sh -v tagregex=\"TGTACG([ACTG]{8})GAATTC\" v3.celltag.reads.out > v3.celltag.parsed.tsv\n",
    "\n",
    "# Rscript ./scripts/matrix.count.celltags.R ./cell.barcodes/hf1.d15.barcodes.tsv v1.celltag.parsed.tsv hf1.d15.v1\n",
    "# Rscript ./scripts/matrix.count.celltags.R ./cell.barcodes/hf1.d15.barcodes.tsv v2.celltag.parsed.tsv hf1.d15.v2\n",
    "# Rscript ./scripts/matrix.count.celltags.R ./cell.barcodes/hf1.d15.barcodes.tsv v3.celltag.parsed.tsv hf1.d15.v3"
   ]
  },
  {
   "cell_type": "code",
   "execution_count": 12,
   "id": "be5d2d0b-ca38-475a-b7a3-6f0bf50342cb",
   "metadata": {},
   "outputs": [],
   "source": [
    "import pyreadr #!pip install pyradr\n",
    "import numpy as np\n",
    "import pandas as pd\n",
    "import celltagging_utils as ct"
   ]
  },
  {
   "cell_type": "markdown",
   "id": "53d46b1a-28f7-46a7-adc5-0da09d43de28",
   "metadata": {},
   "source": [
    "### Read data from celltag matrix"
   ]
  },
  {
   "cell_type": "code",
   "execution_count": 13,
   "id": "f53bef29-a228-4f27-a4da-20da8f4cc61d",
   "metadata": {},
   "outputs": [
    {
     "data": {
      "text/plain": [
       "((3812, 6319), (3812, 8246), (3812, 4630))"
      ]
     },
     "execution_count": 13,
     "metadata": {},
     "output_type": "execute_result"
    }
   ],
   "source": [
    "mef = pyreadr.read_r(\"./celltag_matrix/hf1.d15.v1.celltag.matrix.Rds\")[None]\n",
    "d3 = pyreadr.read_r(\"./celltag_matrix/hf1.d15.v2.celltag.matrix.Rds\")[None]\n",
    "d13 = pyreadr.read_r(\"./celltag_matrix/hf1.d15.v3.celltag.matrix.Rds\")[None]\n",
    "\n",
    "mef.set_index('Cell.BC',inplace=True)\n",
    "d3.set_index('Cell.BC',inplace=True)\n",
    "d13.set_index('Cell.BC',inplace=True)\n",
    "\n",
    "mef.shape, d3.shape, d13.shape"
   ]
  },
  {
   "cell_type": "code",
   "execution_count": 14,
   "id": "77d461e7-d811-48e0-be28-0a2c28d4a3c6",
   "metadata": {},
   "outputs": [
    {
     "data": {
      "text/html": [
       "<div>\n",
       "<style scoped>\n",
       "    .dataframe tbody tr th:only-of-type {\n",
       "        vertical-align: middle;\n",
       "    }\n",
       "\n",
       "    .dataframe tbody tr th {\n",
       "        vertical-align: top;\n",
       "    }\n",
       "\n",
       "    .dataframe thead th {\n",
       "        text-align: right;\n",
       "    }\n",
       "</style>\n",
       "<table border=\"1\" class=\"dataframe\">\n",
       "  <thead>\n",
       "    <tr style=\"text-align: right;\">\n",
       "      <th></th>\n",
       "      <th>AAAAAAGA</th>\n",
       "      <th>AAAAAAGC</th>\n",
       "      <th>AAAAAATA</th>\n",
       "      <th>AAAAACTC</th>\n",
       "      <th>AAAAACTG</th>\n",
       "      <th>AAAAAGAC</th>\n",
       "      <th>AAAAAGCC</th>\n",
       "      <th>AAAAAGCG</th>\n",
       "      <th>AAAAAGGG</th>\n",
       "      <th>AAAACTAA</th>\n",
       "      <th>...</th>\n",
       "      <th>TTTTTCGG</th>\n",
       "      <th>TTTTTCTA</th>\n",
       "      <th>TTTTTGAT</th>\n",
       "      <th>TTTTTGCA</th>\n",
       "      <th>TTTTTGTT</th>\n",
       "      <th>TTTTTTAT</th>\n",
       "      <th>TTTTTTCC</th>\n",
       "      <th>TTTTTTCT</th>\n",
       "      <th>TTTTTTGG</th>\n",
       "      <th>TTTTTTTT</th>\n",
       "    </tr>\n",
       "    <tr>\n",
       "      <th>Cell.BC</th>\n",
       "      <th></th>\n",
       "      <th></th>\n",
       "      <th></th>\n",
       "      <th></th>\n",
       "      <th></th>\n",
       "      <th></th>\n",
       "      <th></th>\n",
       "      <th></th>\n",
       "      <th></th>\n",
       "      <th></th>\n",
       "      <th></th>\n",
       "      <th></th>\n",
       "      <th></th>\n",
       "      <th></th>\n",
       "      <th></th>\n",
       "      <th></th>\n",
       "      <th></th>\n",
       "      <th></th>\n",
       "      <th></th>\n",
       "      <th></th>\n",
       "      <th></th>\n",
       "    </tr>\n",
       "  </thead>\n",
       "  <tbody>\n",
       "    <tr>\n",
       "      <th>AAACCTGAGTATGACA</th>\n",
       "      <td>0.0</td>\n",
       "      <td>0.0</td>\n",
       "      <td>0.0</td>\n",
       "      <td>0.0</td>\n",
       "      <td>0.0</td>\n",
       "      <td>0.0</td>\n",
       "      <td>0.0</td>\n",
       "      <td>0.0</td>\n",
       "      <td>0.0</td>\n",
       "      <td>0.0</td>\n",
       "      <td>...</td>\n",
       "      <td>0.0</td>\n",
       "      <td>0.0</td>\n",
       "      <td>0.0</td>\n",
       "      <td>0.0</td>\n",
       "      <td>0.0</td>\n",
       "      <td>0.0</td>\n",
       "      <td>0.0</td>\n",
       "      <td>0.0</td>\n",
       "      <td>0.0</td>\n",
       "      <td>0.0</td>\n",
       "    </tr>\n",
       "    <tr>\n",
       "      <th>AAACCTGCAGCCTATA</th>\n",
       "      <td>0.0</td>\n",
       "      <td>0.0</td>\n",
       "      <td>0.0</td>\n",
       "      <td>0.0</td>\n",
       "      <td>0.0</td>\n",
       "      <td>0.0</td>\n",
       "      <td>0.0</td>\n",
       "      <td>0.0</td>\n",
       "      <td>0.0</td>\n",
       "      <td>0.0</td>\n",
       "      <td>...</td>\n",
       "      <td>0.0</td>\n",
       "      <td>0.0</td>\n",
       "      <td>0.0</td>\n",
       "      <td>0.0</td>\n",
       "      <td>0.0</td>\n",
       "      <td>0.0</td>\n",
       "      <td>0.0</td>\n",
       "      <td>0.0</td>\n",
       "      <td>0.0</td>\n",
       "      <td>0.0</td>\n",
       "    </tr>\n",
       "    <tr>\n",
       "      <th>AAACCTGGTAAGTAGT</th>\n",
       "      <td>0.0</td>\n",
       "      <td>0.0</td>\n",
       "      <td>0.0</td>\n",
       "      <td>0.0</td>\n",
       "      <td>0.0</td>\n",
       "      <td>0.0</td>\n",
       "      <td>0.0</td>\n",
       "      <td>0.0</td>\n",
       "      <td>0.0</td>\n",
       "      <td>0.0</td>\n",
       "      <td>...</td>\n",
       "      <td>0.0</td>\n",
       "      <td>0.0</td>\n",
       "      <td>0.0</td>\n",
       "      <td>0.0</td>\n",
       "      <td>0.0</td>\n",
       "      <td>0.0</td>\n",
       "      <td>0.0</td>\n",
       "      <td>0.0</td>\n",
       "      <td>0.0</td>\n",
       "      <td>0.0</td>\n",
       "    </tr>\n",
       "    <tr>\n",
       "      <th>AAACCTGTCACAACGT</th>\n",
       "      <td>0.0</td>\n",
       "      <td>0.0</td>\n",
       "      <td>0.0</td>\n",
       "      <td>0.0</td>\n",
       "      <td>0.0</td>\n",
       "      <td>0.0</td>\n",
       "      <td>0.0</td>\n",
       "      <td>0.0</td>\n",
       "      <td>0.0</td>\n",
       "      <td>0.0</td>\n",
       "      <td>...</td>\n",
       "      <td>0.0</td>\n",
       "      <td>0.0</td>\n",
       "      <td>0.0</td>\n",
       "      <td>0.0</td>\n",
       "      <td>0.0</td>\n",
       "      <td>0.0</td>\n",
       "      <td>0.0</td>\n",
       "      <td>0.0</td>\n",
       "      <td>0.0</td>\n",
       "      <td>0.0</td>\n",
       "    </tr>\n",
       "    <tr>\n",
       "      <th>AAACCTGTCCGCGCAA</th>\n",
       "      <td>0.0</td>\n",
       "      <td>0.0</td>\n",
       "      <td>0.0</td>\n",
       "      <td>0.0</td>\n",
       "      <td>0.0</td>\n",
       "      <td>0.0</td>\n",
       "      <td>0.0</td>\n",
       "      <td>0.0</td>\n",
       "      <td>0.0</td>\n",
       "      <td>0.0</td>\n",
       "      <td>...</td>\n",
       "      <td>0.0</td>\n",
       "      <td>0.0</td>\n",
       "      <td>0.0</td>\n",
       "      <td>0.0</td>\n",
       "      <td>0.0</td>\n",
       "      <td>0.0</td>\n",
       "      <td>0.0</td>\n",
       "      <td>0.0</td>\n",
       "      <td>0.0</td>\n",
       "      <td>0.0</td>\n",
       "    </tr>\n",
       "  </tbody>\n",
       "</table>\n",
       "<p>5 rows × 6319 columns</p>\n",
       "</div>"
      ],
      "text/plain": [
       "                  AAAAAAGA  AAAAAAGC  AAAAAATA  AAAAACTC  AAAAACTG  AAAAAGAC  \\\n",
       "Cell.BC                                                                        \n",
       "AAACCTGAGTATGACA       0.0       0.0       0.0       0.0       0.0       0.0   \n",
       "AAACCTGCAGCCTATA       0.0       0.0       0.0       0.0       0.0       0.0   \n",
       "AAACCTGGTAAGTAGT       0.0       0.0       0.0       0.0       0.0       0.0   \n",
       "AAACCTGTCACAACGT       0.0       0.0       0.0       0.0       0.0       0.0   \n",
       "AAACCTGTCCGCGCAA       0.0       0.0       0.0       0.0       0.0       0.0   \n",
       "\n",
       "                  AAAAAGCC  AAAAAGCG  AAAAAGGG  AAAACTAA  ...  TTTTTCGG  \\\n",
       "Cell.BC                                                   ...             \n",
       "AAACCTGAGTATGACA       0.0       0.0       0.0       0.0  ...       0.0   \n",
       "AAACCTGCAGCCTATA       0.0       0.0       0.0       0.0  ...       0.0   \n",
       "AAACCTGGTAAGTAGT       0.0       0.0       0.0       0.0  ...       0.0   \n",
       "AAACCTGTCACAACGT       0.0       0.0       0.0       0.0  ...       0.0   \n",
       "AAACCTGTCCGCGCAA       0.0       0.0       0.0       0.0  ...       0.0   \n",
       "\n",
       "                  TTTTTCTA  TTTTTGAT  TTTTTGCA  TTTTTGTT  TTTTTTAT  TTTTTTCC  \\\n",
       "Cell.BC                                                                        \n",
       "AAACCTGAGTATGACA       0.0       0.0       0.0       0.0       0.0       0.0   \n",
       "AAACCTGCAGCCTATA       0.0       0.0       0.0       0.0       0.0       0.0   \n",
       "AAACCTGGTAAGTAGT       0.0       0.0       0.0       0.0       0.0       0.0   \n",
       "AAACCTGTCACAACGT       0.0       0.0       0.0       0.0       0.0       0.0   \n",
       "AAACCTGTCCGCGCAA       0.0       0.0       0.0       0.0       0.0       0.0   \n",
       "\n",
       "                  TTTTTTCT  TTTTTTGG  TTTTTTTT  \n",
       "Cell.BC                                         \n",
       "AAACCTGAGTATGACA       0.0       0.0       0.0  \n",
       "AAACCTGCAGCCTATA       0.0       0.0       0.0  \n",
       "AAACCTGGTAAGTAGT       0.0       0.0       0.0  \n",
       "AAACCTGTCACAACGT       0.0       0.0       0.0  \n",
       "AAACCTGTCCGCGCAA       0.0       0.0       0.0  \n",
       "\n",
       "[5 rows x 6319 columns]"
      ]
     },
     "execution_count": 14,
     "metadata": {},
     "output_type": "execute_result"
    }
   ],
   "source": [
    "mef.head()"
   ]
  },
  {
   "cell_type": "markdown",
   "id": "f4d87c4f-2c7b-4ccf-973f-7b76da0e4b1c",
   "metadata": {},
   "source": [
    "### Get stats"
   ]
  },
  {
   "cell_type": "code",
   "execution_count": 15,
   "id": "23c62fe5-70da-4690-a86e-4ce984f84fef",
   "metadata": {},
   "outputs": [
    {
     "data": {
      "text/html": [
       "<div>\n",
       "<style scoped>\n",
       "    .dataframe tbody tr th:only-of-type {\n",
       "        vertical-align: middle;\n",
       "    }\n",
       "\n",
       "    .dataframe tbody tr th {\n",
       "        vertical-align: top;\n",
       "    }\n",
       "\n",
       "    .dataframe thead th {\n",
       "        text-align: right;\n",
       "    }\n",
       "</style>\n",
       "<table border=\"1\" class=\"dataframe\">\n",
       "  <thead>\n",
       "    <tr style=\"text-align: right;\">\n",
       "      <th></th>\n",
       "      <th>Cell_UMI_Counts</th>\n",
       "      <th>CellTags_per_Cell</th>\n",
       "      <th>CellTag_UMI_Counts</th>\n",
       "      <th>Cells_per_CellTag</th>\n",
       "    </tr>\n",
       "  </thead>\n",
       "  <tbody>\n",
       "    <tr>\n",
       "      <th>count</th>\n",
       "      <td>3812.000000</td>\n",
       "      <td>3812.000000</td>\n",
       "      <td>6319.000000</td>\n",
       "      <td>6319.000000</td>\n",
       "    </tr>\n",
       "    <tr>\n",
       "      <th>mean</th>\n",
       "      <td>54.328437</td>\n",
       "      <td>5.917629</td>\n",
       "      <td>32.774173</td>\n",
       "      <td>3.569869</td>\n",
       "    </tr>\n",
       "    <tr>\n",
       "      <th>std</th>\n",
       "      <td>96.041066</td>\n",
       "      <td>6.887981</td>\n",
       "      <td>379.364072</td>\n",
       "      <td>16.430824</td>\n",
       "    </tr>\n",
       "    <tr>\n",
       "      <th>min</th>\n",
       "      <td>0.000000</td>\n",
       "      <td>0.000000</td>\n",
       "      <td>1.000000</td>\n",
       "      <td>1.000000</td>\n",
       "    </tr>\n",
       "    <tr>\n",
       "      <th>25%</th>\n",
       "      <td>2.000000</td>\n",
       "      <td>2.000000</td>\n",
       "      <td>1.000000</td>\n",
       "      <td>1.000000</td>\n",
       "    </tr>\n",
       "    <tr>\n",
       "      <th>50%</th>\n",
       "      <td>20.000000</td>\n",
       "      <td>4.000000</td>\n",
       "      <td>1.000000</td>\n",
       "      <td>1.000000</td>\n",
       "    </tr>\n",
       "    <tr>\n",
       "      <th>75%</th>\n",
       "      <td>64.000000</td>\n",
       "      <td>8.000000</td>\n",
       "      <td>4.000000</td>\n",
       "      <td>2.000000</td>\n",
       "    </tr>\n",
       "    <tr>\n",
       "      <th>max</th>\n",
       "      <td>1549.000000</td>\n",
       "      <td>84.000000</td>\n",
       "      <td>20226.000000</td>\n",
       "      <td>569.000000</td>\n",
       "    </tr>\n",
       "  </tbody>\n",
       "</table>\n",
       "</div>"
      ],
      "text/plain": [
       "       Cell_UMI_Counts  CellTags_per_Cell  CellTag_UMI_Counts  \\\n",
       "count      3812.000000        3812.000000         6319.000000   \n",
       "mean         54.328437           5.917629           32.774173   \n",
       "std          96.041066           6.887981          379.364072   \n",
       "min           0.000000           0.000000            1.000000   \n",
       "25%           2.000000           2.000000            1.000000   \n",
       "50%          20.000000           4.000000            1.000000   \n",
       "75%          64.000000           8.000000            4.000000   \n",
       "max        1549.000000          84.000000        20226.000000   \n",
       "\n",
       "       Cells_per_CellTag  \n",
       "count        6319.000000  \n",
       "mean            3.569869  \n",
       "std            16.430824  \n",
       "min             1.000000  \n",
       "25%             1.000000  \n",
       "50%             1.000000  \n",
       "75%             2.000000  \n",
       "max           569.000000  "
      ]
     },
     "execution_count": 15,
     "metadata": {},
     "output_type": "execute_result"
    }
   ],
   "source": [
    "ct.get_stats(mef)"
   ]
  },
  {
   "cell_type": "markdown",
   "id": "0d02074b-5384-44a6-879d-bfe45bdb6f32",
   "metadata": {},
   "source": [
    "### Binarize data\n",
    "Convert the CellTag UMI count matrices into binary matrices and any Cell Barcode/CellTag pair with a UMI count less than a cutoff will be disregarded"
   ]
  },
  {
   "cell_type": "code",
   "execution_count": 16,
   "id": "f0b57cb7-f52a-4c74-8d84-840e7f1d8865",
   "metadata": {},
   "outputs": [],
   "source": [
    "mef_bin = ct.single_cell_data_binarization(mef, 2)\n",
    "d3_bin = ct.single_cell_data_binarization(d3, 2)\n",
    "d13_bin = ct.single_cell_data_binarization(d13, 2)"
   ]
  },
  {
   "cell_type": "markdown",
   "id": "8e02e2cf-01fb-477b-b8d4-4524c74fcd09",
   "metadata": {},
   "source": [
    "### Filter Tags (White list)\n",
    "‘Whitelisting’ is performed to remove PCR and sequencing artifacts that are not corrected in the previous step. This whitelisting consists of filtering out CellTags that are not detected from sequencing of the original complex CellTag library."
   ]
  },
  {
   "cell_type": "code",
   "execution_count": 17,
   "id": "ac004de7-eb95-4f6c-8dc4-146531785029",
   "metadata": {},
   "outputs": [
    {
     "name": "stdout",
     "output_type": "stream",
     "text": [
      "(3812, 3256) (3812, 2537) (3812, 1981)\n"
     ]
    }
   ],
   "source": [
    "mef_filt = ct.single_cell_data_whitelist(mef_bin, \"./whitelist/V1.CellTag.Whitelist.csv\")\n",
    "d3_filt = ct.single_cell_data_whitelist(d3_bin, \"./whitelist/V2.CellTag.Whitelist.csv\")\n",
    "d13_filt = ct.single_cell_data_whitelist(d13_bin, \"./whitelist/V3.CellTag.Whitelist.csv\")\n",
    "print(mef_filt.shape, d3_filt.shape, d13_filt.shape)"
   ]
  },
  {
   "cell_type": "markdown",
   "id": "1bc804a7-b4b5-45f7-9aa2-2bc420c26ff7",
   "metadata": {},
   "source": [
    "### Filter Cells\n",
    "Cells with >20 CellTags (likely to correspond to cell multiplets) and less than two unique CellTags per cell are filtered out."
   ]
  },
  {
   "cell_type": "code",
   "execution_count": 18,
   "id": "b703b7a4-ce2f-45eb-9916-34342d625561",
   "metadata": {},
   "outputs": [
    {
     "name": "stdout",
     "output_type": "stream",
     "text": [
      "(1852, 3256) (1733, 2537) (717, 1981)\n"
     ]
    }
   ],
   "source": [
    "mef_filt = ct.metric_based_filtering(mef_filt, 20, \"less\")\n",
    "d3_filt = ct.metric_based_filtering(d3_filt, 20, \"less\")\n",
    "d13_filt = ct.metric_based_filtering(d13_filt, 20, \"less\")\n",
    "\n",
    "mef_filt = ct.metric_based_filtering(mef_filt, 2, \"greater\")\n",
    "d3_filt = ct.metric_based_filtering(d3_filt, 2, \"greater\")\n",
    "d13_filt = ct.metric_based_filtering(d13_filt, 2, \"greater\")\n",
    "print(mef_filt.shape, d3_filt.shape, d13_filt.shape)"
   ]
  },
  {
   "cell_type": "markdown",
   "id": "19f3395c-264e-43a6-b5be-99d7d61d933c",
   "metadata": {},
   "source": [
    "### Jaccard Analysis (Cell-Cell)\n",
    "Clone calling is performed where Jaccard coefficient scores were calculated to assess the similarity of CellTag expression signatures in all cells in a pairwise manner, thereby identifying clonally related cells."
   ]
  },
  {
   "cell_type": "code",
   "execution_count": 19,
   "id": "7dbf4f0e-6825-4db8-b96c-8e8b0668879a",
   "metadata": {},
   "outputs": [
    {
     "data": {
      "application/vnd.jupyter.widget-view+json": {
       "model_id": "5d45493c9431428ca89ddd2a1c492cd6",
       "version_major": 2,
       "version_minor": 0
      },
      "text/plain": [
       "Calculating Jaccard Similarities:   0%|          | 0/1852 [00:00<?, ?it/s]"
      ]
     },
     "metadata": {},
     "output_type": "display_data"
    },
    {
     "data": {
      "application/vnd.jupyter.widget-view+json": {
       "model_id": "44ebff0f8fc441dd9ff2e8d5b74374bd",
       "version_major": 2,
       "version_minor": 0
      },
      "text/plain": [
       "Calculating Jaccard Similarities:   0%|          | 0/1733 [00:00<?, ?it/s]"
      ]
     },
     "metadata": {},
     "output_type": "display_data"
    },
    {
     "data": {
      "application/vnd.jupyter.widget-view+json": {
       "model_id": "7c1edd9042094473b58e46da99ef5fff",
       "version_major": 2,
       "version_minor": 0
      },
      "text/plain": [
       "Calculating Jaccard Similarities:   0%|          | 0/717 [00:00<?, ?it/s]"
      ]
     },
     "metadata": {},
     "output_type": "display_data"
    }
   ],
   "source": [
    "mef_sim = ct.jaccard_analysis(mef_filt, id='mef')\n",
    "d3_sim = ct.jaccard_analysis(d3_filt, id='d3')\n",
    "d13_sim = ct.jaccard_analysis(d13_filt, id='d13')"
   ]
  },
  {
   "cell_type": "markdown",
   "id": "19a443b8-a46f-457a-8405-415863eb5f88",
   "metadata": {},
   "source": [
    "### Clone Calling\n",
    "Cells with a given threshold for similarity (here 0.7) will be get the same clone index. Celones with one cell will be disregarded."
   ]
  },
  {
   "cell_type": "code",
   "execution_count": 20,
   "id": "9c49c50c-57fc-4dc1-bc99-1e78fa1f03fd",
   "metadata": {},
   "outputs": [
    {
     "name": "stdout",
     "output_type": "stream",
     "text": [
      "   clone_id      cell_barcode\n",
      "0         1  CTAGCCTAGTGTCCAT\n",
      "1         1  AGCTTGAAGTACACCT\n",
      "2         1  CTGAAGTAGAGTTGGC\n",
      "3         1  CAGATCACAACTTGAC\n",
      "4         1  ATCCACCTCGAATGCT\n",
      "   Clone_ID  Frequency\n",
      "0         2        228\n",
      "1         4        202\n",
      "2        16         65\n",
      "3        13         56\n",
      "4         8         53\n"
     ]
    }
   ],
   "source": [
    "mef_clones, mef_clone_size = ct.clone_calling(mef_sim, \"./hf1.d15.v1.clones.csv\", 0.7)\n",
    "d3_clones, d3_clone_size = ct.clone_calling(d3_sim, \"./hf1.d15.v2.clones.csv\", 0.7)\n",
    "d13_clones, d13_clone_size = ct.clone_calling(d13_sim, \"./hf1.d15.v13.clones.csv\", 0.7)\n",
    "print(mef_clones.head())\n",
    "print(mef_clone_size.head())"
   ]
  },
  {
   "cell_type": "markdown",
   "id": "3ca97621-703c-464e-99cb-b6d8e87898c3",
   "metadata": {},
   "source": [
    "### Lineage and Visualization"
   ]
  },
  {
   "cell_type": "code",
   "execution_count": 21,
   "id": "4e5889db-551c-4594-8c05-39c319e811dc",
   "metadata": {},
   "outputs": [],
   "source": [
    "mef_clones.rename(columns={mef_clones.columns[0]: \"CellTagV1\"}, inplace=True)\n",
    "d3_clones.rename(columns={d3_clones.columns[0]: \"CellTagV2\"}, inplace=True)\n",
    "d13_clones.rename(columns={d13_clones.columns[0]: \"CellTagV3\"}, inplace=True)"
   ]
  },
  {
   "cell_type": "code",
   "execution_count": 23,
   "id": "39f292fc-f334-43df-8a2d-f225c67e6527",
   "metadata": {},
   "outputs": [],
   "source": [
    "clone_cells = pd.concat([mef_clones.cell_barcode, d3_clones.cell_barcode, d13_clones.cell_barcode]).unique()\n",
    "celltag_data = pd.DataFrame(index=clone_cells, columns=[\"CellTagV1\", \"CellTagV2\", \"CellTagV3\"])"
   ]
  },
  {
   "cell_type": "code",
   "execution_count": 24,
   "id": "a4dfbdc5-7a0c-496d-9baf-f8076f45b9b1",
   "metadata": {},
   "outputs": [
    {
     "data": {
      "text/html": [
       "<div>\n",
       "<style scoped>\n",
       "    .dataframe tbody tr th:only-of-type {\n",
       "        vertical-align: middle;\n",
       "    }\n",
       "\n",
       "    .dataframe tbody tr th {\n",
       "        vertical-align: top;\n",
       "    }\n",
       "\n",
       "    .dataframe thead th {\n",
       "        text-align: right;\n",
       "    }\n",
       "</style>\n",
       "<table border=\"1\" class=\"dataframe\">\n",
       "  <thead>\n",
       "    <tr style=\"text-align: right;\">\n",
       "      <th></th>\n",
       "      <th>CellTagV1</th>\n",
       "      <th>CellTagV2</th>\n",
       "      <th>CellTagV3</th>\n",
       "    </tr>\n",
       "  </thead>\n",
       "  <tbody>\n",
       "    <tr>\n",
       "      <th>CTAGCCTAGTGTCCAT-1</th>\n",
       "      <td>1</td>\n",
       "      <td>NaN</td>\n",
       "      <td>NaN</td>\n",
       "    </tr>\n",
       "    <tr>\n",
       "      <th>AGCTTGAAGTACACCT-1</th>\n",
       "      <td>1</td>\n",
       "      <td>NaN</td>\n",
       "      <td>NaN</td>\n",
       "    </tr>\n",
       "    <tr>\n",
       "      <th>CTGAAGTAGAGTTGGC-1</th>\n",
       "      <td>1</td>\n",
       "      <td>NaN</td>\n",
       "      <td>NaN</td>\n",
       "    </tr>\n",
       "    <tr>\n",
       "      <th>CAGATCACAACTTGAC-1</th>\n",
       "      <td>1</td>\n",
       "      <td>NaN</td>\n",
       "      <td>NaN</td>\n",
       "    </tr>\n",
       "    <tr>\n",
       "      <th>ATCCACCTCGAATGCT-1</th>\n",
       "      <td>1</td>\n",
       "      <td>NaN</td>\n",
       "      <td>NaN</td>\n",
       "    </tr>\n",
       "    <tr>\n",
       "      <th>...</th>\n",
       "      <td>...</td>\n",
       "      <td>...</td>\n",
       "      <td>...</td>\n",
       "    </tr>\n",
       "    <tr>\n",
       "      <th>GGAGCAAGTTACCGAT-1</th>\n",
       "      <td>NaN</td>\n",
       "      <td>NaN</td>\n",
       "      <td>45</td>\n",
       "    </tr>\n",
       "    <tr>\n",
       "      <th>TCTCATAGTCCGTTAA-1</th>\n",
       "      <td>NaN</td>\n",
       "      <td>NaN</td>\n",
       "      <td>48</td>\n",
       "    </tr>\n",
       "    <tr>\n",
       "      <th>TGACAACCAAAGGAAG-1</th>\n",
       "      <td>NaN</td>\n",
       "      <td>NaN</td>\n",
       "      <td>48</td>\n",
       "    </tr>\n",
       "    <tr>\n",
       "      <th>TGCGCAGAGATATGCA-1</th>\n",
       "      <td>NaN</td>\n",
       "      <td>NaN</td>\n",
       "      <td>50</td>\n",
       "    </tr>\n",
       "    <tr>\n",
       "      <th>TTAGGACGTAAGTTCC-1</th>\n",
       "      <td>NaN</td>\n",
       "      <td>NaN</td>\n",
       "      <td>50</td>\n",
       "    </tr>\n",
       "  </tbody>\n",
       "</table>\n",
       "<p>1957 rows × 3 columns</p>\n",
       "</div>"
      ],
      "text/plain": [
       "                   CellTagV1 CellTagV2 CellTagV3\n",
       "CTAGCCTAGTGTCCAT-1         1       NaN       NaN\n",
       "AGCTTGAAGTACACCT-1         1       NaN       NaN\n",
       "CTGAAGTAGAGTTGGC-1         1       NaN       NaN\n",
       "CAGATCACAACTTGAC-1         1       NaN       NaN\n",
       "ATCCACCTCGAATGCT-1         1       NaN       NaN\n",
       "...                      ...       ...       ...\n",
       "GGAGCAAGTTACCGAT-1       NaN       NaN        45\n",
       "TCTCATAGTCCGTTAA-1       NaN       NaN        48\n",
       "TGACAACCAAAGGAAG-1       NaN       NaN        48\n",
       "TGCGCAGAGATATGCA-1       NaN       NaN        50\n",
       "TTAGGACGTAAGTTCC-1       NaN       NaN        50\n",
       "\n",
       "[1957 rows x 3 columns]"
      ]
     },
     "execution_count": 24,
     "metadata": {},
     "output_type": "execute_result"
    }
   ],
   "source": [
    "celltag_data.loc[mef_clones['cell_barcode'], \"CellTagV1\"] = mef_clones[\"CellTagV1\"].values\n",
    "celltag_data.loc[d3_clones['cell_barcode'], \"CellTagV2\"] = d3_clones[\"CellTagV2\"].values\n",
    "celltag_data.loc[d13_clones['cell_barcode'], \"CellTagV3\"] = d13_clones[\"CellTagV3\"].values\n",
    "celltag_data.index = celltag_data.index.map(lambda x: x + \"-1\")\n",
    "celltag_data"
   ]
  },
  {
   "cell_type": "markdown",
   "id": "d9c9e7a6-3dea-4a89-b986-da6d92f7abd3",
   "metadata": {},
   "source": [
    "### Create Linklist of Relation between Cells and CellTags"
   ]
  },
  {
   "cell_type": "code",
   "execution_count": 25,
   "id": "f83c91db-e5de-4a10-a98e-3a00a847b716",
   "metadata": {},
   "outputs": [
    {
     "name": "stdout",
     "output_type": "stream",
     "text": [
      "Preprocessing data..\n",
      "Cells that have CellTagV1: 1402\n",
      "Cells that have CellTagV2: 1174\n",
      "Cells that have CellTagV3: 100\n",
      "find connection between [celltag -> cells]...\n",
      "find hidden links [CellTagV2 -> CellTagV3], or [CellTagV1 -> CellTagV3]...\n",
      "find hidden links [CellTagV1 -> CellTagV2]...\n",
      "finished\n"
     ]
    }
   ],
   "source": [
    "link_list = ct.convert_cell_tag_matrix_to_link_list(celltag_data)\n",
    "nodes = ct.get_nodes_from_link_list(link_list)"
   ]
  },
  {
   "cell_type": "code",
   "execution_count": 26,
   "id": "5d8de011-18d4-4246-b94b-c4dce4e28c60",
   "metadata": {},
   "outputs": [
    {
     "data": {
      "text/html": [
       "<div>\n",
       "<style scoped>\n",
       "    .dataframe tbody tr th:only-of-type {\n",
       "        vertical-align: middle;\n",
       "    }\n",
       "\n",
       "    .dataframe tbody tr th {\n",
       "        vertical-align: top;\n",
       "    }\n",
       "\n",
       "    .dataframe thead th {\n",
       "        text-align: right;\n",
       "    }\n",
       "</style>\n",
       "<table border=\"1\" class=\"dataframe\">\n",
       "  <thead>\n",
       "    <tr style=\"text-align: right;\">\n",
       "      <th></th>\n",
       "      <th>source</th>\n",
       "      <th>target</th>\n",
       "      <th>tag</th>\n",
       "      <th>target_unmodified</th>\n",
       "    </tr>\n",
       "  </thead>\n",
       "  <tbody>\n",
       "    <tr>\n",
       "      <th>0</th>\n",
       "      <td>CellTagV3_30</td>\n",
       "      <td>GCGGGTTTCATGCTCC-1_V3</td>\n",
       "      <td>CellTagV3</td>\n",
       "      <td>GCGGGTTTCATGCTCC-1</td>\n",
       "    </tr>\n",
       "    <tr>\n",
       "      <th>1</th>\n",
       "      <td>CellTagV3_46</td>\n",
       "      <td>GGTGAAGCAGTCACTA-1_V3</td>\n",
       "      <td>CellTagV3</td>\n",
       "      <td>GGTGAAGCAGTCACTA-1</td>\n",
       "    </tr>\n",
       "    <tr>\n",
       "      <th>2</th>\n",
       "      <td>CellTagV3_12</td>\n",
       "      <td>ATCATCTCAATGGAGC-1_V3</td>\n",
       "      <td>CellTagV3</td>\n",
       "      <td>ATCATCTCAATGGAGC-1</td>\n",
       "    </tr>\n",
       "    <tr>\n",
       "      <th>3</th>\n",
       "      <td>CellTagV3_3</td>\n",
       "      <td>AGGCCACAGCGGCTTC-1_V3</td>\n",
       "      <td>CellTagV3</td>\n",
       "      <td>AGGCCACAGCGGCTTC-1</td>\n",
       "    </tr>\n",
       "    <tr>\n",
       "      <th>4</th>\n",
       "      <td>CellTagV3_30</td>\n",
       "      <td>CGAGCACAGCACCGTC-1_V3</td>\n",
       "      <td>CellTagV3</td>\n",
       "      <td>CGAGCACAGCACCGTC-1</td>\n",
       "    </tr>\n",
       "    <tr>\n",
       "      <th>...</th>\n",
       "      <td>...</td>\n",
       "      <td>...</td>\n",
       "      <td>...</td>\n",
       "      <td>...</td>\n",
       "    </tr>\n",
       "    <tr>\n",
       "      <th>2802</th>\n",
       "      <td>CellTagV2_176</td>\n",
       "      <td>CellTagV3_39</td>\n",
       "      <td>CellTagV2</td>\n",
       "      <td>CellTagV3_39</td>\n",
       "    </tr>\n",
       "    <tr>\n",
       "      <th>2803</th>\n",
       "      <td>CellTagV2_17</td>\n",
       "      <td>CellTagV3_2</td>\n",
       "      <td>CellTagV2</td>\n",
       "      <td>CellTagV3_2</td>\n",
       "    </tr>\n",
       "    <tr>\n",
       "      <th>2804</th>\n",
       "      <td>CellTagV2_100</td>\n",
       "      <td>CellTagV3_14</td>\n",
       "      <td>CellTagV2</td>\n",
       "      <td>CellTagV3_14</td>\n",
       "    </tr>\n",
       "    <tr>\n",
       "      <th>2805</th>\n",
       "      <td>CellTagV2_114</td>\n",
       "      <td>CellTagV3_17</td>\n",
       "      <td>CellTagV2</td>\n",
       "      <td>CellTagV3_17</td>\n",
       "    </tr>\n",
       "    <tr>\n",
       "      <th>2806</th>\n",
       "      <td>CellTagV2_148</td>\n",
       "      <td>CellTagV3_28</td>\n",
       "      <td>CellTagV2</td>\n",
       "      <td>CellTagV3_28</td>\n",
       "    </tr>\n",
       "  </tbody>\n",
       "</table>\n",
       "<p>2807 rows × 4 columns</p>\n",
       "</div>"
      ],
      "text/plain": [
       "             source                 target        tag   target_unmodified\n",
       "0      CellTagV3_30  GCGGGTTTCATGCTCC-1_V3  CellTagV3  GCGGGTTTCATGCTCC-1\n",
       "1      CellTagV3_46  GGTGAAGCAGTCACTA-1_V3  CellTagV3  GGTGAAGCAGTCACTA-1\n",
       "2      CellTagV3_12  ATCATCTCAATGGAGC-1_V3  CellTagV3  ATCATCTCAATGGAGC-1\n",
       "3       CellTagV3_3  AGGCCACAGCGGCTTC-1_V3  CellTagV3  AGGCCACAGCGGCTTC-1\n",
       "4      CellTagV3_30  CGAGCACAGCACCGTC-1_V3  CellTagV3  CGAGCACAGCACCGTC-1\n",
       "...             ...                    ...        ...                 ...\n",
       "2802  CellTagV2_176           CellTagV3_39  CellTagV2        CellTagV3_39\n",
       "2803   CellTagV2_17            CellTagV3_2  CellTagV2         CellTagV3_2\n",
       "2804  CellTagV2_100           CellTagV3_14  CellTagV2        CellTagV3_14\n",
       "2805  CellTagV2_114           CellTagV3_17  CellTagV2        CellTagV3_17\n",
       "2806  CellTagV2_148           CellTagV3_28  CellTagV2        CellTagV3_28\n",
       "\n",
       "[2807 rows x 4 columns]"
      ]
     },
     "execution_count": 26,
     "metadata": {},
     "output_type": "execute_result"
    }
   ],
   "source": [
    "link_list"
   ]
  },
  {
   "cell_type": "code",
   "execution_count": null,
   "id": "ae889465-ba29-4345-a328-649266b49721",
   "metadata": {},
   "outputs": [],
   "source": []
  },
  {
   "cell_type": "code",
   "execution_count": null,
   "id": "94c6db75-0dfd-44b3-8284-d21371275fa8",
   "metadata": {},
   "outputs": [],
   "source": []
  },
  {
   "cell_type": "code",
   "execution_count": null,
   "id": "4fd1e7d1-8827-4c91-9e11-f5f3a8bd7951",
   "metadata": {},
   "outputs": [],
   "source": []
  }
 ],
 "metadata": {
  "kernelspec": {
   "display_name": "Python 3 (ipykernel)",
   "language": "python",
   "name": "python3"
  },
  "language_info": {
   "codemirror_mode": {
    "name": "ipython",
    "version": 3
   },
   "file_extension": ".py",
   "mimetype": "text/x-python",
   "name": "python",
   "nbconvert_exporter": "python",
   "pygments_lexer": "ipython3",
   "version": "3.10.12"
  }
 },
 "nbformat": 4,
 "nbformat_minor": 5
}
