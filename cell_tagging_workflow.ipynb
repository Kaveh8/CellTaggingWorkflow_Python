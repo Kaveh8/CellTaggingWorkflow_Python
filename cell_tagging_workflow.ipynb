{
 "cells": [
  {
   "cell_type": "markdown",
   "id": "3944c1d7-14c4-4d65-84c4-0691ef92f6ec",
   "metadata": {},
   "source": [
    "### Do the following steps in bash to get CellTag Matrix Expression\n",
    "1. Download BAM file for samples at day 15\n",
    "2. Extract celltag reads from BAM file\n",
    "3. Parse reads to extract required information\n",
    "I've also added the extracted file in the repository."
   ]
  },
  {
   "cell_type": "code",
   "execution_count": 11,
   "id": "fe5c0279-fd0f-4a63-9f02-02ad810947ee",
   "metadata": {},
   "outputs": [],
   "source": [
    "# #bash\n",
    "# wget https://sra-pub-src-1.s3.amazonaws.com/SRR7347033/hf1.d15.possorted_genome_bam.bam.1\n",
    "\n",
    "# samtools view hf1.d15.possorted_genome_bam.bam | grep -P 'GGT[ACTG]{8}GAATTC' > v1.celltag.reads.out\n",
    "# samtools view hf1.d15.possorted_genome_bam.bam | grep -P 'GTGATG[ACTG]{8}GAATTC' > v2.celltag.reads.out\n",
    "# samtools view hf1.d15.possorted_genome_bam.bam | grep -P 'TGTACG[ACTG]{8}GAATTC' > v3.celltag.reads.out\n",
    "\n",
    "# ./scripts/celltag.parse.reads.10x.sh -v tagregex=\"CCGGT([ACTG]{8})GAATTC\" v1.celltag.reads.out > v1.celltag.parsed.tsv\n",
    "# ./scripts/celltag.parse.reads.10x.sh -v tagregex=\"GTGATG([ACTG]{8})GAATTC\" v2.celltag.reads.out > v2.celltag.parsed.tsv\n",
    "# ./scripts/celltag.parse.reads.10x.sh -v tagregex=\"TGTACG([ACTG]{8})GAATTC\" v3.celltag.reads.out > v3.celltag.parsed.tsv\n",
    "\n",
    "# Rscript ./scripts/matrix.count.celltags.R ./cell.barcodes/hf1.d15.barcodes.tsv v1.celltag.parsed.tsv hf1.d15.v1\n",
    "# Rscript ./scripts/matrix.count.celltags.R ./cell.barcodes/hf1.d15.barcodes.tsv v2.celltag.parsed.tsv hf1.d15.v2\n",
    "# Rscript ./scripts/matrix.count.celltags.R ./cell.barcodes/hf1.d15.barcodes.tsv v3.celltag.parsed.tsv hf1.d15.v3"
   ]
  },
  {
   "cell_type": "code",
   "execution_count": 1,
   "id": "be5d2d0b-ca38-475a-b7a3-6f0bf50342cb",
   "metadata": {},
   "outputs": [],
   "source": [
    "import pyreadr #!pip install pyradr\n",
    "import numpy as np\n",
    "import pandas as pd\n",
    "import celltagging_utils as ct\n",
    "import matplotlib.pyplot as plt\n",
    "import seaborn as sns\n",
    "from pyvis.network import Network\n",
    "import importlib\n",
    "import networkx as nx\n",
    "import plotly.graph_objs as go\n",
    "from plotly.offline import init_notebook_mode, iplot\n",
    "\n",
    "init_notebook_mode(connected=True)"
   ]
  },
  {
   "cell_type": "markdown",
   "id": "53d46b1a-28f7-46a7-adc5-0da09d43de28",
   "metadata": {},
   "source": [
    "### Read data from celltag matrix"
   ]
  },
  {
   "cell_type": "code",
   "execution_count": 2,
   "id": "f53bef29-a228-4f27-a4da-20da8f4cc61d",
   "metadata": {},
   "outputs": [
    {
     "data": {
      "text/plain": [
       "((3812, 6319), (3812, 8246), (3812, 4630))"
      ]
     },
     "execution_count": 2,
     "metadata": {},
     "output_type": "execute_result"
    }
   ],
   "source": [
    "mef = pyreadr.read_r(\"./celltag_matrix/hf1.d15.v1.celltag.matrix.Rds\")[None]\n",
    "d3 = pyreadr.read_r(\"./celltag_matrix/hf1.d15.v2.celltag.matrix.Rds\")[None]\n",
    "d13 = pyreadr.read_r(\"./celltag_matrix/hf1.d15.v3.celltag.matrix.Rds\")[None]\n",
    "\n",
    "mef.set_index('Cell.BC',inplace=True)\n",
    "d3.set_index('Cell.BC',inplace=True)\n",
    "d13.set_index('Cell.BC',inplace=True)\n",
    "\n",
    "mef.shape, d3.shape, d13.shape"
   ]
  },
  {
   "cell_type": "code",
   "execution_count": 3,
   "id": "77d461e7-d811-48e0-be28-0a2c28d4a3c6",
   "metadata": {},
   "outputs": [
    {
     "data": {
      "text/html": [
       "<div>\n",
       "<style scoped>\n",
       "    .dataframe tbody tr th:only-of-type {\n",
       "        vertical-align: middle;\n",
       "    }\n",
       "\n",
       "    .dataframe tbody tr th {\n",
       "        vertical-align: top;\n",
       "    }\n",
       "\n",
       "    .dataframe thead th {\n",
       "        text-align: right;\n",
       "    }\n",
       "</style>\n",
       "<table border=\"1\" class=\"dataframe\">\n",
       "  <thead>\n",
       "    <tr style=\"text-align: right;\">\n",
       "      <th></th>\n",
       "      <th>AAAAAAGA</th>\n",
       "      <th>AAAAAAGC</th>\n",
       "      <th>AAAAAATA</th>\n",
       "      <th>AAAAACTC</th>\n",
       "      <th>AAAAACTG</th>\n",
       "      <th>AAAAAGAC</th>\n",
       "      <th>AAAAAGCC</th>\n",
       "      <th>AAAAAGCG</th>\n",
       "      <th>AAAAAGGG</th>\n",
       "      <th>AAAACTAA</th>\n",
       "      <th>...</th>\n",
       "      <th>TTTTTCGG</th>\n",
       "      <th>TTTTTCTA</th>\n",
       "      <th>TTTTTGAT</th>\n",
       "      <th>TTTTTGCA</th>\n",
       "      <th>TTTTTGTT</th>\n",
       "      <th>TTTTTTAT</th>\n",
       "      <th>TTTTTTCC</th>\n",
       "      <th>TTTTTTCT</th>\n",
       "      <th>TTTTTTGG</th>\n",
       "      <th>TTTTTTTT</th>\n",
       "    </tr>\n",
       "    <tr>\n",
       "      <th>Cell.BC</th>\n",
       "      <th></th>\n",
       "      <th></th>\n",
       "      <th></th>\n",
       "      <th></th>\n",
       "      <th></th>\n",
       "      <th></th>\n",
       "      <th></th>\n",
       "      <th></th>\n",
       "      <th></th>\n",
       "      <th></th>\n",
       "      <th></th>\n",
       "      <th></th>\n",
       "      <th></th>\n",
       "      <th></th>\n",
       "      <th></th>\n",
       "      <th></th>\n",
       "      <th></th>\n",
       "      <th></th>\n",
       "      <th></th>\n",
       "      <th></th>\n",
       "      <th></th>\n",
       "    </tr>\n",
       "  </thead>\n",
       "  <tbody>\n",
       "    <tr>\n",
       "      <th>AAACCTGAGTATGACA</th>\n",
       "      <td>0.0</td>\n",
       "      <td>0.0</td>\n",
       "      <td>0.0</td>\n",
       "      <td>0.0</td>\n",
       "      <td>0.0</td>\n",
       "      <td>0.0</td>\n",
       "      <td>0.0</td>\n",
       "      <td>0.0</td>\n",
       "      <td>0.0</td>\n",
       "      <td>0.0</td>\n",
       "      <td>...</td>\n",
       "      <td>0.0</td>\n",
       "      <td>0.0</td>\n",
       "      <td>0.0</td>\n",
       "      <td>0.0</td>\n",
       "      <td>0.0</td>\n",
       "      <td>0.0</td>\n",
       "      <td>0.0</td>\n",
       "      <td>0.0</td>\n",
       "      <td>0.0</td>\n",
       "      <td>0.0</td>\n",
       "    </tr>\n",
       "    <tr>\n",
       "      <th>AAACCTGCAGCCTATA</th>\n",
       "      <td>0.0</td>\n",
       "      <td>0.0</td>\n",
       "      <td>0.0</td>\n",
       "      <td>0.0</td>\n",
       "      <td>0.0</td>\n",
       "      <td>0.0</td>\n",
       "      <td>0.0</td>\n",
       "      <td>0.0</td>\n",
       "      <td>0.0</td>\n",
       "      <td>0.0</td>\n",
       "      <td>...</td>\n",
       "      <td>0.0</td>\n",
       "      <td>0.0</td>\n",
       "      <td>0.0</td>\n",
       "      <td>0.0</td>\n",
       "      <td>0.0</td>\n",
       "      <td>0.0</td>\n",
       "      <td>0.0</td>\n",
       "      <td>0.0</td>\n",
       "      <td>0.0</td>\n",
       "      <td>0.0</td>\n",
       "    </tr>\n",
       "    <tr>\n",
       "      <th>AAACCTGGTAAGTAGT</th>\n",
       "      <td>0.0</td>\n",
       "      <td>0.0</td>\n",
       "      <td>0.0</td>\n",
       "      <td>0.0</td>\n",
       "      <td>0.0</td>\n",
       "      <td>0.0</td>\n",
       "      <td>0.0</td>\n",
       "      <td>0.0</td>\n",
       "      <td>0.0</td>\n",
       "      <td>0.0</td>\n",
       "      <td>...</td>\n",
       "      <td>0.0</td>\n",
       "      <td>0.0</td>\n",
       "      <td>0.0</td>\n",
       "      <td>0.0</td>\n",
       "      <td>0.0</td>\n",
       "      <td>0.0</td>\n",
       "      <td>0.0</td>\n",
       "      <td>0.0</td>\n",
       "      <td>0.0</td>\n",
       "      <td>0.0</td>\n",
       "    </tr>\n",
       "    <tr>\n",
       "      <th>AAACCTGTCACAACGT</th>\n",
       "      <td>0.0</td>\n",
       "      <td>0.0</td>\n",
       "      <td>0.0</td>\n",
       "      <td>0.0</td>\n",
       "      <td>0.0</td>\n",
       "      <td>0.0</td>\n",
       "      <td>0.0</td>\n",
       "      <td>0.0</td>\n",
       "      <td>0.0</td>\n",
       "      <td>0.0</td>\n",
       "      <td>...</td>\n",
       "      <td>0.0</td>\n",
       "      <td>0.0</td>\n",
       "      <td>0.0</td>\n",
       "      <td>0.0</td>\n",
       "      <td>0.0</td>\n",
       "      <td>0.0</td>\n",
       "      <td>0.0</td>\n",
       "      <td>0.0</td>\n",
       "      <td>0.0</td>\n",
       "      <td>0.0</td>\n",
       "    </tr>\n",
       "    <tr>\n",
       "      <th>AAACCTGTCCGCGCAA</th>\n",
       "      <td>0.0</td>\n",
       "      <td>0.0</td>\n",
       "      <td>0.0</td>\n",
       "      <td>0.0</td>\n",
       "      <td>0.0</td>\n",
       "      <td>0.0</td>\n",
       "      <td>0.0</td>\n",
       "      <td>0.0</td>\n",
       "      <td>0.0</td>\n",
       "      <td>0.0</td>\n",
       "      <td>...</td>\n",
       "      <td>0.0</td>\n",
       "      <td>0.0</td>\n",
       "      <td>0.0</td>\n",
       "      <td>0.0</td>\n",
       "      <td>0.0</td>\n",
       "      <td>0.0</td>\n",
       "      <td>0.0</td>\n",
       "      <td>0.0</td>\n",
       "      <td>0.0</td>\n",
       "      <td>0.0</td>\n",
       "    </tr>\n",
       "  </tbody>\n",
       "</table>\n",
       "<p>5 rows × 6319 columns</p>\n",
       "</div>"
      ],
      "text/plain": [
       "                  AAAAAAGA  AAAAAAGC  AAAAAATA  AAAAACTC  AAAAACTG  AAAAAGAC  \\\n",
       "Cell.BC                                                                        \n",
       "AAACCTGAGTATGACA       0.0       0.0       0.0       0.0       0.0       0.0   \n",
       "AAACCTGCAGCCTATA       0.0       0.0       0.0       0.0       0.0       0.0   \n",
       "AAACCTGGTAAGTAGT       0.0       0.0       0.0       0.0       0.0       0.0   \n",
       "AAACCTGTCACAACGT       0.0       0.0       0.0       0.0       0.0       0.0   \n",
       "AAACCTGTCCGCGCAA       0.0       0.0       0.0       0.0       0.0       0.0   \n",
       "\n",
       "                  AAAAAGCC  AAAAAGCG  AAAAAGGG  AAAACTAA  ...  TTTTTCGG  \\\n",
       "Cell.BC                                                   ...             \n",
       "AAACCTGAGTATGACA       0.0       0.0       0.0       0.0  ...       0.0   \n",
       "AAACCTGCAGCCTATA       0.0       0.0       0.0       0.0  ...       0.0   \n",
       "AAACCTGGTAAGTAGT       0.0       0.0       0.0       0.0  ...       0.0   \n",
       "AAACCTGTCACAACGT       0.0       0.0       0.0       0.0  ...       0.0   \n",
       "AAACCTGTCCGCGCAA       0.0       0.0       0.0       0.0  ...       0.0   \n",
       "\n",
       "                  TTTTTCTA  TTTTTGAT  TTTTTGCA  TTTTTGTT  TTTTTTAT  TTTTTTCC  \\\n",
       "Cell.BC                                                                        \n",
       "AAACCTGAGTATGACA       0.0       0.0       0.0       0.0       0.0       0.0   \n",
       "AAACCTGCAGCCTATA       0.0       0.0       0.0       0.0       0.0       0.0   \n",
       "AAACCTGGTAAGTAGT       0.0       0.0       0.0       0.0       0.0       0.0   \n",
       "AAACCTGTCACAACGT       0.0       0.0       0.0       0.0       0.0       0.0   \n",
       "AAACCTGTCCGCGCAA       0.0       0.0       0.0       0.0       0.0       0.0   \n",
       "\n",
       "                  TTTTTTCT  TTTTTTGG  TTTTTTTT  \n",
       "Cell.BC                                         \n",
       "AAACCTGAGTATGACA       0.0       0.0       0.0  \n",
       "AAACCTGCAGCCTATA       0.0       0.0       0.0  \n",
       "AAACCTGGTAAGTAGT       0.0       0.0       0.0  \n",
       "AAACCTGTCACAACGT       0.0       0.0       0.0  \n",
       "AAACCTGTCCGCGCAA       0.0       0.0       0.0  \n",
       "\n",
       "[5 rows x 6319 columns]"
      ]
     },
     "execution_count": 3,
     "metadata": {},
     "output_type": "execute_result"
    }
   ],
   "source": [
    "mef.head()"
   ]
  },
  {
   "cell_type": "markdown",
   "id": "f4d87c4f-2c7b-4ccf-973f-7b76da0e4b1c",
   "metadata": {},
   "source": [
    "### Get stats"
   ]
  },
  {
   "cell_type": "code",
   "execution_count": 4,
   "id": "23c62fe5-70da-4690-a86e-4ce984f84fef",
   "metadata": {},
   "outputs": [
    {
     "data": {
      "text/html": [
       "<div>\n",
       "<style scoped>\n",
       "    .dataframe tbody tr th:only-of-type {\n",
       "        vertical-align: middle;\n",
       "    }\n",
       "\n",
       "    .dataframe tbody tr th {\n",
       "        vertical-align: top;\n",
       "    }\n",
       "\n",
       "    .dataframe thead th {\n",
       "        text-align: right;\n",
       "    }\n",
       "</style>\n",
       "<table border=\"1\" class=\"dataframe\">\n",
       "  <thead>\n",
       "    <tr style=\"text-align: right;\">\n",
       "      <th></th>\n",
       "      <th>Cell_UMI_Counts</th>\n",
       "      <th>CellTags_per_Cell</th>\n",
       "      <th>CellTag_UMI_Counts</th>\n",
       "      <th>Cells_per_CellTag</th>\n",
       "    </tr>\n",
       "  </thead>\n",
       "  <tbody>\n",
       "    <tr>\n",
       "      <th>count</th>\n",
       "      <td>3812.000000</td>\n",
       "      <td>3812.000000</td>\n",
       "      <td>6319.000000</td>\n",
       "      <td>6319.000000</td>\n",
       "    </tr>\n",
       "    <tr>\n",
       "      <th>mean</th>\n",
       "      <td>54.328437</td>\n",
       "      <td>5.917629</td>\n",
       "      <td>32.774173</td>\n",
       "      <td>3.569869</td>\n",
       "    </tr>\n",
       "    <tr>\n",
       "      <th>std</th>\n",
       "      <td>96.041066</td>\n",
       "      <td>6.887981</td>\n",
       "      <td>379.364072</td>\n",
       "      <td>16.430824</td>\n",
       "    </tr>\n",
       "    <tr>\n",
       "      <th>min</th>\n",
       "      <td>0.000000</td>\n",
       "      <td>0.000000</td>\n",
       "      <td>1.000000</td>\n",
       "      <td>1.000000</td>\n",
       "    </tr>\n",
       "    <tr>\n",
       "      <th>25%</th>\n",
       "      <td>2.000000</td>\n",
       "      <td>2.000000</td>\n",
       "      <td>1.000000</td>\n",
       "      <td>1.000000</td>\n",
       "    </tr>\n",
       "    <tr>\n",
       "      <th>50%</th>\n",
       "      <td>20.000000</td>\n",
       "      <td>4.000000</td>\n",
       "      <td>1.000000</td>\n",
       "      <td>1.000000</td>\n",
       "    </tr>\n",
       "    <tr>\n",
       "      <th>75%</th>\n",
       "      <td>64.000000</td>\n",
       "      <td>8.000000</td>\n",
       "      <td>4.000000</td>\n",
       "      <td>2.000000</td>\n",
       "    </tr>\n",
       "    <tr>\n",
       "      <th>max</th>\n",
       "      <td>1549.000000</td>\n",
       "      <td>84.000000</td>\n",
       "      <td>20226.000000</td>\n",
       "      <td>569.000000</td>\n",
       "    </tr>\n",
       "  </tbody>\n",
       "</table>\n",
       "</div>"
      ],
      "text/plain": [
       "       Cell_UMI_Counts  CellTags_per_Cell  CellTag_UMI_Counts  \\\n",
       "count      3812.000000        3812.000000         6319.000000   \n",
       "mean         54.328437           5.917629           32.774173   \n",
       "std          96.041066           6.887981          379.364072   \n",
       "min           0.000000           0.000000            1.000000   \n",
       "25%           2.000000           2.000000            1.000000   \n",
       "50%          20.000000           4.000000            1.000000   \n",
       "75%          64.000000           8.000000            4.000000   \n",
       "max        1549.000000          84.000000        20226.000000   \n",
       "\n",
       "       Cells_per_CellTag  \n",
       "count        6319.000000  \n",
       "mean            3.569869  \n",
       "std            16.430824  \n",
       "min             1.000000  \n",
       "25%             1.000000  \n",
       "50%             1.000000  \n",
       "75%             2.000000  \n",
       "max           569.000000  "
      ]
     },
     "execution_count": 4,
     "metadata": {},
     "output_type": "execute_result"
    }
   ],
   "source": [
    "ct.get_stats(mef)"
   ]
  },
  {
   "cell_type": "markdown",
   "id": "0d02074b-5384-44a6-879d-bfe45bdb6f32",
   "metadata": {},
   "source": [
    "### Binarize data\n",
    "Convert the CellTag UMI count matrices into binary matrices and any Cell Barcode/CellTag pair with a UMI count less than a cutoff will be disregarded"
   ]
  },
  {
   "cell_type": "code",
   "execution_count": 5,
   "id": "f0b57cb7-f52a-4c74-8d84-840e7f1d8865",
   "metadata": {},
   "outputs": [],
   "source": [
    "mef_bin = ct.single_cell_data_binarization(mef, 2)\n",
    "d3_bin = ct.single_cell_data_binarization(d3, 2)\n",
    "d13_bin = ct.single_cell_data_binarization(d13, 2)"
   ]
  },
  {
   "cell_type": "markdown",
   "id": "8e02e2cf-01fb-477b-b8d4-4524c74fcd09",
   "metadata": {},
   "source": [
    "### Filter Tags (White list)\n",
    "‘Whitelisting’ is performed to remove PCR and sequencing artifacts that are not corrected in the previous step. This whitelisting consists of filtering out CellTags that are not detected from sequencing of the original complex CellTag library."
   ]
  },
  {
   "cell_type": "code",
   "execution_count": 6,
   "id": "ac004de7-eb95-4f6c-8dc4-146531785029",
   "metadata": {},
   "outputs": [
    {
     "name": "stdout",
     "output_type": "stream",
     "text": [
      "(3812, 3256) (3812, 2537) (3812, 1981)\n"
     ]
    }
   ],
   "source": [
    "mef_filt = ct.single_cell_data_whitelist(mef_bin, \"./whitelist/V1.CellTag.Whitelist.csv\")\n",
    "d3_filt = ct.single_cell_data_whitelist(d3_bin, \"./whitelist/V2.CellTag.Whitelist.csv\")\n",
    "d13_filt = ct.single_cell_data_whitelist(d13_bin, \"./whitelist/V3.CellTag.Whitelist.csv\")\n",
    "print(mef_filt.shape, d3_filt.shape, d13_filt.shape)"
   ]
  },
  {
   "cell_type": "markdown",
   "id": "1bc804a7-b4b5-45f7-9aa2-2bc420c26ff7",
   "metadata": {},
   "source": [
    "### Filter Cells\n",
    "Cells with >20 CellTags (likely to correspond to cell multiplets) and less than two unique CellTags per cell are filtered out."
   ]
  },
  {
   "cell_type": "code",
   "execution_count": 7,
   "id": "b703b7a4-ce2f-45eb-9916-34342d625561",
   "metadata": {},
   "outputs": [
    {
     "name": "stdout",
     "output_type": "stream",
     "text": [
      "(1852, 3256) (1733, 2537) (717, 1981)\n"
     ]
    }
   ],
   "source": [
    "mef_filt = ct.metric_based_filtering(mef_filt, 20, \"less\")\n",
    "d3_filt = ct.metric_based_filtering(d3_filt, 20, \"less\")\n",
    "d13_filt = ct.metric_based_filtering(d13_filt, 20, \"less\")\n",
    "\n",
    "mef_filt = ct.metric_based_filtering(mef_filt, 2, \"greater\")\n",
    "d3_filt = ct.metric_based_filtering(d3_filt, 2, \"greater\")\n",
    "d13_filt = ct.metric_based_filtering(d13_filt, 2, \"greater\")\n",
    "print(mef_filt.shape, d3_filt.shape, d13_filt.shape)"
   ]
  },
  {
   "cell_type": "markdown",
   "id": "19f3395c-264e-43a6-b5be-99d7d61d933c",
   "metadata": {},
   "source": [
    "### Jaccard Analysis (Cell-Cell)\n",
    "Clone calling is performed where Jaccard coefficient scores were calculated to assess the similarity of CellTag expression signatures in all cells in a pairwise manner, thereby identifying clonally related cells."
   ]
  },
  {
   "cell_type": "code",
   "execution_count": 8,
   "id": "7dbf4f0e-6825-4db8-b96c-8e8b0668879a",
   "metadata": {},
   "outputs": [
    {
     "data": {
      "application/vnd.jupyter.widget-view+json": {
       "model_id": "fad723eb87144cdcb122f8e3b928a8ef",
       "version_major": 2,
       "version_minor": 0
      },
      "text/plain": [
       "Calculating Jaccard Similarities:   0%|          | 0/1852 [00:00<?, ?it/s]"
      ]
     },
     "metadata": {},
     "output_type": "display_data"
    },
    {
     "data": {
      "application/vnd.jupyter.widget-view+json": {
       "model_id": "f61c3a82c97c4916a49393fc49b7ddcb",
       "version_major": 2,
       "version_minor": 0
      },
      "text/plain": [
       "Calculating Jaccard Similarities:   0%|          | 0/1733 [00:00<?, ?it/s]"
      ]
     },
     "metadata": {},
     "output_type": "display_data"
    },
    {
     "data": {
      "application/vnd.jupyter.widget-view+json": {
       "model_id": "987e319bf3a4486a8a851342e2559c3d",
       "version_major": 2,
       "version_minor": 0
      },
      "text/plain": [
       "Calculating Jaccard Similarities:   0%|          | 0/717 [00:00<?, ?it/s]"
      ]
     },
     "metadata": {},
     "output_type": "display_data"
    }
   ],
   "source": [
    "mef_sim = ct.jaccard_analysis(mef_filt, id='mef')\n",
    "d3_sim = ct.jaccard_analysis(d3_filt, id='d3')\n",
    "d13_sim = ct.jaccard_analysis(d13_filt, id='d13')"
   ]
  },
  {
   "cell_type": "markdown",
   "id": "19a443b8-a46f-457a-8405-415863eb5f88",
   "metadata": {},
   "source": [
    "### Clone Calling\n",
    "Cells with a given threshold for similarity (here 0.7) will be get the same clone index. Celones with one cell will be disregarded."
   ]
  },
  {
   "cell_type": "code",
   "execution_count": 9,
   "id": "9c49c50c-57fc-4dc1-bc99-1e78fa1f03fd",
   "metadata": {},
   "outputs": [
    {
     "name": "stdout",
     "output_type": "stream",
     "text": [
      "   clone_id      cell_barcode\n",
      "0         1  CTCATTATCGCGGATC\n",
      "1         1  CAGATCACAACTTGAC\n",
      "2         1  GTCTCGTGTTCCATGA\n",
      "3         1  CGTCAGGCAAGCGAGT\n",
      "4         1  CGGACGTTCACTCCTG\n",
      "   Clone_ID  Frequency\n",
      "0         2        228\n",
      "1         4        202\n",
      "2        16         65\n",
      "3        13         56\n",
      "4         8         53\n"
     ]
    }
   ],
   "source": [
    "mef_clones, mef_clone_size = ct.clone_calling(mef_sim, \"./hf1.d15.v1.clones.csv\", 0.7)\n",
    "d3_clones, d3_clone_size = ct.clone_calling(d3_sim, \"./hf1.d15.v2.clones.csv\", 0.7)\n",
    "d13_clones, d13_clone_size = ct.clone_calling(d13_sim, \"./hf1.d15.v13.clones.csv\", 0.7)\n",
    "print(mef_clones.head())\n",
    "print(mef_clone_size.head())"
   ]
  },
  {
   "cell_type": "markdown",
   "id": "3ca97621-703c-464e-99cb-b6d8e87898c3",
   "metadata": {},
   "source": [
    "### Lineage and Visualization"
   ]
  },
  {
   "cell_type": "code",
   "execution_count": 192,
   "id": "4e5889db-551c-4594-8c05-39c319e811dc",
   "metadata": {},
   "outputs": [],
   "source": [
    "mef_clones.rename(columns={mef_clones.columns[0]: \"CellTagV1\"}, inplace=True)\n",
    "d3_clones.rename(columns={d3_clones.columns[0]: \"CellTagV2\"}, inplace=True)\n",
    "d13_clones.rename(columns={d13_clones.columns[0]: \"CellTagV3\"}, inplace=True)"
   ]
  },
  {
   "cell_type": "code",
   "execution_count": 193,
   "id": "39f292fc-f334-43df-8a2d-f225c67e6527",
   "metadata": {},
   "outputs": [],
   "source": [
    "clone_cells = pd.concat([mef_clones.cell_barcode, d3_clones.cell_barcode, d13_clones.cell_barcode]).unique()\n",
    "celltag_data = pd.DataFrame(index=clone_cells, columns=[\"CellTagV1\", \"CellTagV2\", \"CellTagV3\"])"
   ]
  },
  {
   "cell_type": "code",
   "execution_count": 194,
   "id": "a4dfbdc5-7a0c-496d-9baf-f8076f45b9b1",
   "metadata": {},
   "outputs": [
    {
     "data": {
      "text/html": [
       "<div>\n",
       "<style scoped>\n",
       "    .dataframe tbody tr th:only-of-type {\n",
       "        vertical-align: middle;\n",
       "    }\n",
       "\n",
       "    .dataframe tbody tr th {\n",
       "        vertical-align: top;\n",
       "    }\n",
       "\n",
       "    .dataframe thead th {\n",
       "        text-align: right;\n",
       "    }\n",
       "</style>\n",
       "<table border=\"1\" class=\"dataframe\">\n",
       "  <thead>\n",
       "    <tr style=\"text-align: right;\">\n",
       "      <th></th>\n",
       "      <th>CellTagV1</th>\n",
       "      <th>CellTagV2</th>\n",
       "      <th>CellTagV3</th>\n",
       "    </tr>\n",
       "  </thead>\n",
       "  <tbody>\n",
       "    <tr>\n",
       "      <th>CTCATTATCGCGGATC-1</th>\n",
       "      <td>1</td>\n",
       "      <td>NaN</td>\n",
       "      <td>NaN</td>\n",
       "    </tr>\n",
       "    <tr>\n",
       "      <th>CAGATCACAACTTGAC-1</th>\n",
       "      <td>1</td>\n",
       "      <td>NaN</td>\n",
       "      <td>NaN</td>\n",
       "    </tr>\n",
       "    <tr>\n",
       "      <th>GTCTCGTGTTCCATGA-1</th>\n",
       "      <td>1</td>\n",
       "      <td>NaN</td>\n",
       "      <td>NaN</td>\n",
       "    </tr>\n",
       "    <tr>\n",
       "      <th>CGTCAGGCAAGCGAGT-1</th>\n",
       "      <td>1</td>\n",
       "      <td>NaN</td>\n",
       "      <td>NaN</td>\n",
       "    </tr>\n",
       "    <tr>\n",
       "      <th>CGGACGTTCACTCCTG-1</th>\n",
       "      <td>1</td>\n",
       "      <td>NaN</td>\n",
       "      <td>NaN</td>\n",
       "    </tr>\n",
       "    <tr>\n",
       "      <th>...</th>\n",
       "      <td>...</td>\n",
       "      <td>...</td>\n",
       "      <td>...</td>\n",
       "    </tr>\n",
       "    <tr>\n",
       "      <th>GGAGCAAGTTACCGAT-1</th>\n",
       "      <td>NaN</td>\n",
       "      <td>NaN</td>\n",
       "      <td>45</td>\n",
       "    </tr>\n",
       "    <tr>\n",
       "      <th>TGACAACCAAAGGAAG-1</th>\n",
       "      <td>NaN</td>\n",
       "      <td>NaN</td>\n",
       "      <td>48</td>\n",
       "    </tr>\n",
       "    <tr>\n",
       "      <th>TCTCATAGTCCGTTAA-1</th>\n",
       "      <td>NaN</td>\n",
       "      <td>NaN</td>\n",
       "      <td>48</td>\n",
       "    </tr>\n",
       "    <tr>\n",
       "      <th>TGCGCAGAGATATGCA-1</th>\n",
       "      <td>NaN</td>\n",
       "      <td>NaN</td>\n",
       "      <td>50</td>\n",
       "    </tr>\n",
       "    <tr>\n",
       "      <th>TTAGGACGTAAGTTCC-1</th>\n",
       "      <td>NaN</td>\n",
       "      <td>NaN</td>\n",
       "      <td>50</td>\n",
       "    </tr>\n",
       "  </tbody>\n",
       "</table>\n",
       "<p>1957 rows × 3 columns</p>\n",
       "</div>"
      ],
      "text/plain": [
       "                   CellTagV1 CellTagV2 CellTagV3\n",
       "CTCATTATCGCGGATC-1         1       NaN       NaN\n",
       "CAGATCACAACTTGAC-1         1       NaN       NaN\n",
       "GTCTCGTGTTCCATGA-1         1       NaN       NaN\n",
       "CGTCAGGCAAGCGAGT-1         1       NaN       NaN\n",
       "CGGACGTTCACTCCTG-1         1       NaN       NaN\n",
       "...                      ...       ...       ...\n",
       "GGAGCAAGTTACCGAT-1       NaN       NaN        45\n",
       "TGACAACCAAAGGAAG-1       NaN       NaN        48\n",
       "TCTCATAGTCCGTTAA-1       NaN       NaN        48\n",
       "TGCGCAGAGATATGCA-1       NaN       NaN        50\n",
       "TTAGGACGTAAGTTCC-1       NaN       NaN        50\n",
       "\n",
       "[1957 rows x 3 columns]"
      ]
     },
     "execution_count": 194,
     "metadata": {},
     "output_type": "execute_result"
    }
   ],
   "source": [
    "celltag_data.loc[mef_clones['cell_barcode'], \"CellTagV1\"] = mef_clones[\"CellTagV1\"].values\n",
    "celltag_data.loc[d3_clones['cell_barcode'], \"CellTagV2\"] = d3_clones[\"CellTagV2\"].values\n",
    "celltag_data.loc[d13_clones['cell_barcode'], \"CellTagV3\"] = d13_clones[\"CellTagV3\"].values\n",
    "celltag_data.index = celltag_data.index.map(lambda x: x + \"-1\")\n",
    "celltag_data"
   ]
  },
  {
   "cell_type": "markdown",
   "id": "d9c9e7a6-3dea-4a89-b986-da6d92f7abd3",
   "metadata": {},
   "source": [
    "### Create Linklist of Relation between Cells and CellTags\n",
    "- CellTagV1 Clones: 166 (1402 Cells)\n",
    "- CellTagV2 Clones: 197 (1174 Cells)\n",
    "- CellTagV3 Clones: 50 (100 Cells)\n",
    "- Cells in 1 Clone: 1268\n",
    "- Cells in 2 Clones: 659 (1318 Nodes)\n",
    "- Cells in 3 Clones: 30 (90 Nodes)\n",
    "- Unique Cells: 1957\n",
    "- **Nodes Count: 3089** -> 413 Clones + 2676 Cells -> (166+197+50) + (1268+1318+90)\n",
    "\n",
    "(1268 + 1318 + 90) = (1402 + 1174 + 100) = 2676"
   ]
  },
  {
   "cell_type": "code",
   "execution_count": 195,
   "id": "f83c91db-e5de-4a10-a98e-3a00a847b716",
   "metadata": {},
   "outputs": [
    {
     "name": "stdout",
     "output_type": "stream",
     "text": [
      "Preprocessing data..\n",
      "Cells that have CellTagV1: 1402\n",
      "Cells that have CellTagV2: 1174\n",
      "Cells that have CellTagV3: 100\n",
      "find connection between [celltag -> cells]...\n",
      "find hidden links [CellTagV2 -> CellTagV3], or [CellTagV1 -> CellTagV3]...\n",
      "find hidden links [CellTagV1 -> CellTagV2]...\n",
      "finished\n"
     ]
    }
   ],
   "source": [
    "link_list = ct.convert_cell_tag_matrix_to_link_list(celltag_data)\n",
    "all_nodes = ct.get_nodes_from_link_list(link_list)"
   ]
  },
  {
   "cell_type": "code",
   "execution_count": 197,
   "id": "73eb22c5-3697-46fb-a278-3a585c71607c",
   "metadata": {},
   "outputs": [
    {
     "name": "stdout",
     "output_type": "stream",
     "text": [
      "Links: 25 \n",
      "Nodes: 15\n"
     ]
    }
   ],
   "source": [
    "ref_nodes = [\"CellTagV1_95\"]\n",
    "sub_links, sub_nodes = ct.get_subnet(ref_nodes, link_list, all_nodes)\n",
    "print(\"Links:\", sub_links.shape[0], \"\\nNodes:\",sub_nodes.shape[0])"
   ]
  },
  {
   "cell_type": "code",
   "execution_count": 198,
   "id": "3fb252fd-aaa5-4ad9-9890-2269e786d329",
   "metadata": {},
   "outputs": [
    {
     "data": {
      "application/vnd.plotly.v1+json": {
       "config": {
        "linkText": "Export to plot.ly",
        "plotlyServerURL": "https://plot.ly",
        "showLink": false
       },
       "data": [
        {
         "hoverinfo": "none",
         "line": {
          "color": "#888",
          "width": 0.5
         },
         "mode": "lines",
         "type": "scatter",
         "x": [
          0.09321163696583713,
          0.0926191676389283,
          null,
          0.2584437430596077,
          0.0926191676389283,
          null,
          -0.09318372261472853,
          0.0926191676389283,
          null,
          -0.1787929718453414,
          0.0926191676389283,
          null,
          0.45462745516849656,
          0.0926191676389283,
          null,
          0.3741666434966264,
          0.0926191676389283,
          null,
          0.423929772012322,
          0.0926191676389283,
          null,
          0.29429248396269336,
          0.0926191676389283,
          null,
          -0.007015646491360902,
          0.0926191676389283,
          null,
          0.1964132867843469,
          0.0926191676389283,
          null,
          0.01662451923388329,
          0.0926191676389283,
          null,
          -0.17287047362115618,
          0.0926191676389283,
          null,
          -0.646728773502388,
          -1,
          null,
          -0.646728773502388,
          -0.860780907271751,
          null,
          -0.646728773502388,
          -0.9611186291800916,
          null,
          -0.646728773502388,
          -0.7476951303143334,
          null,
          -0.646728773502388,
          -0.8207710975427938,
          null,
          -0.646728773502388,
          0.0926191676389283,
          null,
          -0.646728773502388,
          -0.9982347672912837,
          null,
          0.5644949379757486,
          0.480020988225612,
          null,
          0.5644949379757486,
          0.896570315384758,
          null,
          0.5644949379757486,
          0.6515249508887048,
          null,
          0.5644949379757486,
          0.8960244266707574,
          null,
          0.5644949379757486,
          0.7942277922069045,
          null,
          0.5644949379757486,
          0.0926191676389283,
          null
         ],
         "y": [
          0.15065775649522983,
          -0.15672078388231322,
          null,
          -0.3495075967625502,
          -0.15672078388231322,
          null,
          0.08119076913388411,
          -0.15672078388231322,
          null,
          -0.1499880078133015,
          -0.15672078388231322,
          null,
          -0.2874049980761336,
          -0.15672078388231322,
          null,
          -0.4662213872212358,
          -0.15672078388231322,
          null,
          -0.11482433670348534,
          -0.15672078388231322,
          null,
          0.040965968446403926,
          -0.15672078388231322,
          null,
          -0.3934538385088683,
          -0.15672078388231322,
          null,
          -0.5434733105993319,
          -0.15672078388231322,
          null,
          -0.5537612702699515,
          -0.15672078388231322,
          null,
          -0.4038367396026915,
          -0.15672078388231322,
          null,
          -0.05702350750214658,
          0.09851604842706728,
          null,
          -0.05702350750214658,
          0.1543149627109535,
          null,
          -0.05702350750214658,
          -0.23250230389938603,
          null,
          -0.05702350750214658,
          0.2656552374383664,
          null,
          -0.05702350750214658,
          -0.3352148703337683,
          null,
          -0.05702350750214658,
          -0.15672078388231322,
          null,
          -0.05702350750214658,
          -0.0738506545698931,
          null,
          0.38601137101231014,
          0.6988853942271266,
          null,
          0.38601137101231014,
          0.5180025639893666,
          null,
          0.38601137101231014,
          0.7340167677203039,
          null,
          0.38601137101231014,
          0.33887246674759214,
          null,
          0.38601137101231014,
          0.650694299396453,
          null,
          0.38601137101231014,
          -0.15672078388231322,
          null
         ]
        },
        {
         "marker": {
          "color": [
           "red",
           "red",
           "red",
           "red",
           "red",
           "red",
           "red",
           "red",
           "red",
           "red",
           "red",
           "red",
           "blue",
           "blue",
           "blue"
          ],
          "showscale": false,
          "size": 10
         },
         "mode": "markers+text",
         "text": [
          "CCGTTCAGTTTGTTTC-1_V1",
          "CTCCTAGTCATATCGG-1_V1",
          "CGGACACCACCGAATT-1_V1",
          "CTACACCGTAGGGACT-1_V1",
          "CGTAGGCAGCGATAGC-1_V1",
          "GAAACTCTCAATACCG-1_V1",
          "GCATGATGTACCCAAT-1_V1",
          "TTGCCGTAGTACACCT-1_V1",
          "ATCGAGTTCCCTAATT-1_V1",
          "CGACCTTTCTACCTGC-1_V1",
          "TTGAACGCATCAGTAC-1_V1",
          "TAGACCACAATGACCT-1_V1",
          "CellTagV2_147",
          "CellTagV2_109",
          "CellTagV1_95"
         ],
         "textposition": "bottom center",
         "type": "scatter",
         "x": [
          0.09321163696583713,
          0.2584437430596077,
          -0.09318372261472853,
          -0.1787929718453414,
          0.45462745516849656,
          0.3741666434966264,
          0.423929772012322,
          0.29429248396269336,
          -0.007015646491360902,
          0.1964132867843469,
          0.01662451923388329,
          -0.17287047362115618,
          -0.646728773502388,
          0.5644949379757486,
          0.0926191676389283,
          -1,
          0.480020988225612,
          0.896570315384758,
          -0.860780907271751,
          0.6515249508887048,
          0.8960244266707574,
          0.7942277922069045,
          -0.9611186291800916,
          -0.7476951303143334,
          -0.8207710975427938,
          -0.9982347672912837
         ],
         "y": [
          0.15065775649522983,
          -0.3495075967625502,
          0.08119076913388411,
          -0.1499880078133015,
          -0.2874049980761336,
          -0.4662213872212358,
          -0.11482433670348534,
          0.040965968446403926,
          -0.3934538385088683,
          -0.5434733105993319,
          -0.5537612702699515,
          -0.4038367396026915,
          -0.05702350750214658,
          0.38601137101231014,
          -0.15672078388231322,
          0.09851604842706728,
          0.6988853942271266,
          0.5180025639893666,
          0.1543149627109535,
          0.7340167677203039,
          0.33887246674759214,
          0.650694299396453,
          -0.23250230389938603,
          0.2656552374383664,
          -0.3352148703337683,
          -0.0738506545698931
         ]
        }
       ],
       "layout": {
        "height": 600,
        "hovermode": "closest",
        "showlegend": false,
        "template": {
         "data": {
          "bar": [
           {
            "error_x": {
             "color": "#2a3f5f"
            },
            "error_y": {
             "color": "#2a3f5f"
            },
            "marker": {
             "line": {
              "color": "#E5ECF6",
              "width": 0.5
             },
             "pattern": {
              "fillmode": "overlay",
              "size": 10,
              "solidity": 0.2
             }
            },
            "type": "bar"
           }
          ],
          "barpolar": [
           {
            "marker": {
             "line": {
              "color": "#E5ECF6",
              "width": 0.5
             },
             "pattern": {
              "fillmode": "overlay",
              "size": 10,
              "solidity": 0.2
             }
            },
            "type": "barpolar"
           }
          ],
          "carpet": [
           {
            "aaxis": {
             "endlinecolor": "#2a3f5f",
             "gridcolor": "white",
             "linecolor": "white",
             "minorgridcolor": "white",
             "startlinecolor": "#2a3f5f"
            },
            "baxis": {
             "endlinecolor": "#2a3f5f",
             "gridcolor": "white",
             "linecolor": "white",
             "minorgridcolor": "white",
             "startlinecolor": "#2a3f5f"
            },
            "type": "carpet"
           }
          ],
          "choropleth": [
           {
            "colorbar": {
             "outlinewidth": 0,
             "ticks": ""
            },
            "type": "choropleth"
           }
          ],
          "contour": [
           {
            "colorbar": {
             "outlinewidth": 0,
             "ticks": ""
            },
            "colorscale": [
             [
              0,
              "#0d0887"
             ],
             [
              0.1111111111111111,
              "#46039f"
             ],
             [
              0.2222222222222222,
              "#7201a8"
             ],
             [
              0.3333333333333333,
              "#9c179e"
             ],
             [
              0.4444444444444444,
              "#bd3786"
             ],
             [
              0.5555555555555556,
              "#d8576b"
             ],
             [
              0.6666666666666666,
              "#ed7953"
             ],
             [
              0.7777777777777778,
              "#fb9f3a"
             ],
             [
              0.8888888888888888,
              "#fdca26"
             ],
             [
              1,
              "#f0f921"
             ]
            ],
            "type": "contour"
           }
          ],
          "contourcarpet": [
           {
            "colorbar": {
             "outlinewidth": 0,
             "ticks": ""
            },
            "type": "contourcarpet"
           }
          ],
          "heatmap": [
           {
            "colorbar": {
             "outlinewidth": 0,
             "ticks": ""
            },
            "colorscale": [
             [
              0,
              "#0d0887"
             ],
             [
              0.1111111111111111,
              "#46039f"
             ],
             [
              0.2222222222222222,
              "#7201a8"
             ],
             [
              0.3333333333333333,
              "#9c179e"
             ],
             [
              0.4444444444444444,
              "#bd3786"
             ],
             [
              0.5555555555555556,
              "#d8576b"
             ],
             [
              0.6666666666666666,
              "#ed7953"
             ],
             [
              0.7777777777777778,
              "#fb9f3a"
             ],
             [
              0.8888888888888888,
              "#fdca26"
             ],
             [
              1,
              "#f0f921"
             ]
            ],
            "type": "heatmap"
           }
          ],
          "heatmapgl": [
           {
            "colorbar": {
             "outlinewidth": 0,
             "ticks": ""
            },
            "colorscale": [
             [
              0,
              "#0d0887"
             ],
             [
              0.1111111111111111,
              "#46039f"
             ],
             [
              0.2222222222222222,
              "#7201a8"
             ],
             [
              0.3333333333333333,
              "#9c179e"
             ],
             [
              0.4444444444444444,
              "#bd3786"
             ],
             [
              0.5555555555555556,
              "#d8576b"
             ],
             [
              0.6666666666666666,
              "#ed7953"
             ],
             [
              0.7777777777777778,
              "#fb9f3a"
             ],
             [
              0.8888888888888888,
              "#fdca26"
             ],
             [
              1,
              "#f0f921"
             ]
            ],
            "type": "heatmapgl"
           }
          ],
          "histogram": [
           {
            "marker": {
             "pattern": {
              "fillmode": "overlay",
              "size": 10,
              "solidity": 0.2
             }
            },
            "type": "histogram"
           }
          ],
          "histogram2d": [
           {
            "colorbar": {
             "outlinewidth": 0,
             "ticks": ""
            },
            "colorscale": [
             [
              0,
              "#0d0887"
             ],
             [
              0.1111111111111111,
              "#46039f"
             ],
             [
              0.2222222222222222,
              "#7201a8"
             ],
             [
              0.3333333333333333,
              "#9c179e"
             ],
             [
              0.4444444444444444,
              "#bd3786"
             ],
             [
              0.5555555555555556,
              "#d8576b"
             ],
             [
              0.6666666666666666,
              "#ed7953"
             ],
             [
              0.7777777777777778,
              "#fb9f3a"
             ],
             [
              0.8888888888888888,
              "#fdca26"
             ],
             [
              1,
              "#f0f921"
             ]
            ],
            "type": "histogram2d"
           }
          ],
          "histogram2dcontour": [
           {
            "colorbar": {
             "outlinewidth": 0,
             "ticks": ""
            },
            "colorscale": [
             [
              0,
              "#0d0887"
             ],
             [
              0.1111111111111111,
              "#46039f"
             ],
             [
              0.2222222222222222,
              "#7201a8"
             ],
             [
              0.3333333333333333,
              "#9c179e"
             ],
             [
              0.4444444444444444,
              "#bd3786"
             ],
             [
              0.5555555555555556,
              "#d8576b"
             ],
             [
              0.6666666666666666,
              "#ed7953"
             ],
             [
              0.7777777777777778,
              "#fb9f3a"
             ],
             [
              0.8888888888888888,
              "#fdca26"
             ],
             [
              1,
              "#f0f921"
             ]
            ],
            "type": "histogram2dcontour"
           }
          ],
          "mesh3d": [
           {
            "colorbar": {
             "outlinewidth": 0,
             "ticks": ""
            },
            "type": "mesh3d"
           }
          ],
          "parcoords": [
           {
            "line": {
             "colorbar": {
              "outlinewidth": 0,
              "ticks": ""
             }
            },
            "type": "parcoords"
           }
          ],
          "pie": [
           {
            "automargin": true,
            "type": "pie"
           }
          ],
          "scatter": [
           {
            "fillpattern": {
             "fillmode": "overlay",
             "size": 10,
             "solidity": 0.2
            },
            "type": "scatter"
           }
          ],
          "scatter3d": [
           {
            "line": {
             "colorbar": {
              "outlinewidth": 0,
              "ticks": ""
             }
            },
            "marker": {
             "colorbar": {
              "outlinewidth": 0,
              "ticks": ""
             }
            },
            "type": "scatter3d"
           }
          ],
          "scattercarpet": [
           {
            "marker": {
             "colorbar": {
              "outlinewidth": 0,
              "ticks": ""
             }
            },
            "type": "scattercarpet"
           }
          ],
          "scattergeo": [
           {
            "marker": {
             "colorbar": {
              "outlinewidth": 0,
              "ticks": ""
             }
            },
            "type": "scattergeo"
           }
          ],
          "scattergl": [
           {
            "marker": {
             "colorbar": {
              "outlinewidth": 0,
              "ticks": ""
             }
            },
            "type": "scattergl"
           }
          ],
          "scattermapbox": [
           {
            "marker": {
             "colorbar": {
              "outlinewidth": 0,
              "ticks": ""
             }
            },
            "type": "scattermapbox"
           }
          ],
          "scatterpolar": [
           {
            "marker": {
             "colorbar": {
              "outlinewidth": 0,
              "ticks": ""
             }
            },
            "type": "scatterpolar"
           }
          ],
          "scatterpolargl": [
           {
            "marker": {
             "colorbar": {
              "outlinewidth": 0,
              "ticks": ""
             }
            },
            "type": "scatterpolargl"
           }
          ],
          "scatterternary": [
           {
            "marker": {
             "colorbar": {
              "outlinewidth": 0,
              "ticks": ""
             }
            },
            "type": "scatterternary"
           }
          ],
          "surface": [
           {
            "colorbar": {
             "outlinewidth": 0,
             "ticks": ""
            },
            "colorscale": [
             [
              0,
              "#0d0887"
             ],
             [
              0.1111111111111111,
              "#46039f"
             ],
             [
              0.2222222222222222,
              "#7201a8"
             ],
             [
              0.3333333333333333,
              "#9c179e"
             ],
             [
              0.4444444444444444,
              "#bd3786"
             ],
             [
              0.5555555555555556,
              "#d8576b"
             ],
             [
              0.6666666666666666,
              "#ed7953"
             ],
             [
              0.7777777777777778,
              "#fb9f3a"
             ],
             [
              0.8888888888888888,
              "#fdca26"
             ],
             [
              1,
              "#f0f921"
             ]
            ],
            "type": "surface"
           }
          ],
          "table": [
           {
            "cells": {
             "fill": {
              "color": "#EBF0F8"
             },
             "line": {
              "color": "white"
             }
            },
            "header": {
             "fill": {
              "color": "#C8D4E3"
             },
             "line": {
              "color": "white"
             }
            },
            "type": "table"
           }
          ]
         },
         "layout": {
          "annotationdefaults": {
           "arrowcolor": "#2a3f5f",
           "arrowhead": 0,
           "arrowwidth": 1
          },
          "autotypenumbers": "strict",
          "coloraxis": {
           "colorbar": {
            "outlinewidth": 0,
            "ticks": ""
           }
          },
          "colorscale": {
           "diverging": [
            [
             0,
             "#8e0152"
            ],
            [
             0.1,
             "#c51b7d"
            ],
            [
             0.2,
             "#de77ae"
            ],
            [
             0.3,
             "#f1b6da"
            ],
            [
             0.4,
             "#fde0ef"
            ],
            [
             0.5,
             "#f7f7f7"
            ],
            [
             0.6,
             "#e6f5d0"
            ],
            [
             0.7,
             "#b8e186"
            ],
            [
             0.8,
             "#7fbc41"
            ],
            [
             0.9,
             "#4d9221"
            ],
            [
             1,
             "#276419"
            ]
           ],
           "sequential": [
            [
             0,
             "#0d0887"
            ],
            [
             0.1111111111111111,
             "#46039f"
            ],
            [
             0.2222222222222222,
             "#7201a8"
            ],
            [
             0.3333333333333333,
             "#9c179e"
            ],
            [
             0.4444444444444444,
             "#bd3786"
            ],
            [
             0.5555555555555556,
             "#d8576b"
            ],
            [
             0.6666666666666666,
             "#ed7953"
            ],
            [
             0.7777777777777778,
             "#fb9f3a"
            ],
            [
             0.8888888888888888,
             "#fdca26"
            ],
            [
             1,
             "#f0f921"
            ]
           ],
           "sequentialminus": [
            [
             0,
             "#0d0887"
            ],
            [
             0.1111111111111111,
             "#46039f"
            ],
            [
             0.2222222222222222,
             "#7201a8"
            ],
            [
             0.3333333333333333,
             "#9c179e"
            ],
            [
             0.4444444444444444,
             "#bd3786"
            ],
            [
             0.5555555555555556,
             "#d8576b"
            ],
            [
             0.6666666666666666,
             "#ed7953"
            ],
            [
             0.7777777777777778,
             "#fb9f3a"
            ],
            [
             0.8888888888888888,
             "#fdca26"
            ],
            [
             1,
             "#f0f921"
            ]
           ]
          },
          "colorway": [
           "#636efa",
           "#EF553B",
           "#00cc96",
           "#ab63fa",
           "#FFA15A",
           "#19d3f3",
           "#FF6692",
           "#B6E880",
           "#FF97FF",
           "#FECB52"
          ],
          "font": {
           "color": "#2a3f5f"
          },
          "geo": {
           "bgcolor": "white",
           "lakecolor": "white",
           "landcolor": "#E5ECF6",
           "showlakes": true,
           "showland": true,
           "subunitcolor": "white"
          },
          "hoverlabel": {
           "align": "left"
          },
          "hovermode": "closest",
          "mapbox": {
           "style": "light"
          },
          "paper_bgcolor": "white",
          "plot_bgcolor": "#E5ECF6",
          "polar": {
           "angularaxis": {
            "gridcolor": "white",
            "linecolor": "white",
            "ticks": ""
           },
           "bgcolor": "#E5ECF6",
           "radialaxis": {
            "gridcolor": "white",
            "linecolor": "white",
            "ticks": ""
           }
          },
          "scene": {
           "xaxis": {
            "backgroundcolor": "#E5ECF6",
            "gridcolor": "white",
            "gridwidth": 2,
            "linecolor": "white",
            "showbackground": true,
            "ticks": "",
            "zerolinecolor": "white"
           },
           "yaxis": {
            "backgroundcolor": "#E5ECF6",
            "gridcolor": "white",
            "gridwidth": 2,
            "linecolor": "white",
            "showbackground": true,
            "ticks": "",
            "zerolinecolor": "white"
           },
           "zaxis": {
            "backgroundcolor": "#E5ECF6",
            "gridcolor": "white",
            "gridwidth": 2,
            "linecolor": "white",
            "showbackground": true,
            "ticks": "",
            "zerolinecolor": "white"
           }
          },
          "shapedefaults": {
           "line": {
            "color": "#2a3f5f"
           }
          },
          "ternary": {
           "aaxis": {
            "gridcolor": "white",
            "linecolor": "white",
            "ticks": ""
           },
           "baxis": {
            "gridcolor": "white",
            "linecolor": "white",
            "ticks": ""
           },
           "bgcolor": "#E5ECF6",
           "caxis": {
            "gridcolor": "white",
            "linecolor": "white",
            "ticks": ""
           }
          },
          "title": {
           "x": 0.05
          },
          "xaxis": {
           "automargin": true,
           "gridcolor": "white",
           "linecolor": "white",
           "ticks": "",
           "title": {
            "standoff": 15
           },
           "zerolinecolor": "white",
           "zerolinewidth": 2
          },
          "yaxis": {
           "automargin": true,
           "gridcolor": "white",
           "linecolor": "white",
           "ticks": "",
           "title": {
            "standoff": 15
           },
           "zerolinecolor": "white",
           "zerolinewidth": 2
          }
         }
        },
        "title": {
         "text": "Network"
        },
        "width": 800,
        "xaxis": {
         "autorange": true,
         "range": [
          -1.1287379140434197,
          1.0253082294281777
         ],
         "type": "linear"
        },
        "yaxis": {
         "autorange": true,
         "range": [
          -0.6497720815838625,
          0.8300275790342149
         ],
         "type": "linear"
        }
       }
      },
      "image/png": "[encoded data removed]",
      "text/html": [
       "<div>                            <div id=\"c838f629-596e-40c7-8edd-24698cece92c\" class=\"plotly-graph-div\" style=\"height:600px; width:800px;\"></div>            <script type=\"text/javascript\">                require([\"plotly\"], function(Plotly) {                    window.PLOTLYENV=window.PLOTLYENV || {};                                    if (document.getElementById(\"c838f629-596e-40c7-8edd-24698cece92c\")) {                    Plotly.newPlot(                        \"c838f629-596e-40c7-8edd-24698cece92c\",                        [{\"hoverinfo\":\"none\",\"line\":{\"color\":\"#888\",\"width\":0.5},\"mode\":\"lines\",\"x\":[0.09321163696583713,0.0926191676389283,null,0.2584437430596077,0.0926191676389283,null,-0.09318372261472853,0.0926191676389283,null,-0.1787929718453414,0.0926191676389283,null,0.45462745516849656,0.0926191676389283,null,0.3741666434966264,0.0926191676389283,null,0.423929772012322,0.0926191676389283,null,0.29429248396269336,0.0926191676389283,null,-0.007015646491360902,0.0926191676389283,null,0.1964132867843469,0.0926191676389283,null,0.01662451923388329,0.0926191676389283,null,-0.17287047362115618,0.0926191676389283,null,-0.646728773502388,-1.0,null,-0.646728773502388,-0.860780907271751,null,-0.646728773502388,-0.9611186291800916,null,-0.646728773502388,-0.7476951303143334,null,-0.646728773502388,-0.8207710975427938,null,-0.646728773502388,0.0926191676389283,null,-0.646728773502388,-0.9982347672912837,null,0.5644949379757486,0.480020988225612,null,0.5644949379757486,0.896570315384758,null,0.5644949379757486,0.6515249508887048,null,0.5644949379757486,0.8960244266707574,null,0.5644949379757486,0.7942277922069045,null,0.5644949379757486,0.0926191676389283,null],\"y\":[0.15065775649522983,-0.15672078388231322,null,-0.3495075967625502,-0.15672078388231322,null,0.08119076913388411,-0.15672078388231322,null,-0.1499880078133015,-0.15672078388231322,null,-0.2874049980761336,-0.15672078388231322,null,-0.4662213872212358,-0.15672078388231322,null,-0.11482433670348534,-0.15672078388231322,null,0.040965968446403926,-0.15672078388231322,null,-0.3934538385088683,-0.15672078388231322,null,-0.5434733105993319,-0.15672078388231322,null,-0.5537612702699515,-0.15672078388231322,null,-0.4038367396026915,-0.15672078388231322,null,-0.05702350750214658,0.09851604842706728,null,-0.05702350750214658,0.1543149627109535,null,-0.05702350750214658,-0.23250230389938603,null,-0.05702350750214658,0.2656552374383664,null,-0.05702350750214658,-0.3352148703337683,null,-0.05702350750214658,-0.15672078388231322,null,-0.05702350750214658,-0.0738506545698931,null,0.38601137101231014,0.6988853942271266,null,0.38601137101231014,0.5180025639893666,null,0.38601137101231014,0.7340167677203039,null,0.38601137101231014,0.33887246674759214,null,0.38601137101231014,0.650694299396453,null,0.38601137101231014,-0.15672078388231322,null],\"type\":\"scatter\"},{\"marker\":{\"color\":[\"red\",\"red\",\"red\",\"red\",\"red\",\"red\",\"red\",\"red\",\"red\",\"red\",\"red\",\"red\",\"blue\",\"blue\",\"blue\"],\"showscale\":false,\"size\":10},\"mode\":\"markers+text\",\"text\":[\"CCGTTCAGTTTGTTTC-1_V1\",\"CTCCTAGTCATATCGG-1_V1\",\"CGGACACCACCGAATT-1_V1\",\"CTACACCGTAGGGACT-1_V1\",\"CGTAGGCAGCGATAGC-1_V1\",\"GAAACTCTCAATACCG-1_V1\",\"GCATGATGTACCCAAT-1_V1\",\"TTGCCGTAGTACACCT-1_V1\",\"ATCGAGTTCCCTAATT-1_V1\",\"CGACCTTTCTACCTGC-1_V1\",\"TTGAACGCATCAGTAC-1_V1\",\"TAGACCACAATGACCT-1_V1\",\"CellTagV2_147\",\"CellTagV2_109\",\"CellTagV1_95\"],\"textposition\":\"bottom center\",\"x\":[0.09321163696583713,0.2584437430596077,-0.09318372261472853,-0.1787929718453414,0.45462745516849656,0.3741666434966264,0.423929772012322,0.29429248396269336,-0.007015646491360902,0.1964132867843469,0.01662451923388329,-0.17287047362115618,-0.646728773502388,0.5644949379757486,0.0926191676389283,-1.0,0.480020988225612,0.896570315384758,-0.860780907271751,0.6515249508887048,0.8960244266707574,0.7942277922069045,-0.9611186291800916,-0.7476951303143334,-0.8207710975427938,-0.9982347672912837],\"y\":[0.15065775649522983,-0.3495075967625502,0.08119076913388411,-0.1499880078133015,-0.2874049980761336,-0.4662213872212358,-0.11482433670348534,0.040965968446403926,-0.3934538385088683,-0.5434733105993319,-0.5537612702699515,-0.4038367396026915,-0.05702350750214658,0.38601137101231014,-0.15672078388231322,0.09851604842706728,0.6988853942271266,0.5180025639893666,0.1543149627109535,0.7340167677203039,0.33887246674759214,0.650694299396453,-0.23250230389938603,0.2656552374383664,-0.3352148703337683,-0.0738506545698931],\"type\":\"scatter\"}],                        {\"height\":600,\"hovermode\":\"closest\",\"showlegend\":false,\"template\":{\"data\":{\"barpolar\":[{\"marker\":{\"line\":{\"color\":\"#E5ECF6\",\"width\":0.5},\"pattern\":{\"fillmode\":\"overlay\",\"size\":10,\"solidity\":0.2}},\"type\":\"barpolar\"}],\"bar\":[{\"error_x\":{\"color\":\"#2a3f5f\"},\"error_y\":{\"color\":\"#2a3f5f\"},\"marker\":{\"line\":{\"color\":\"#E5ECF6\",\"width\":0.5},\"pattern\":{\"fillmode\":\"overlay\",\"size\":10,\"solidity\":0.2}},\"type\":\"bar\"}],\"carpet\":[{\"aaxis\":{\"endlinecolor\":\"#2a3f5f\",\"gridcolor\":\"white\",\"linecolor\":\"white\",\"minorgridcolor\":\"white\",\"startlinecolor\":\"#2a3f5f\"},\"baxis\":{\"endlinecolor\":\"#2a3f5f\",\"gridcolor\":\"white\",\"linecolor\":\"white\",\"minorgridcolor\":\"white\",\"startlinecolor\":\"#2a3f5f\"},\"type\":\"carpet\"}],\"choropleth\":[{\"colorbar\":{\"outlinewidth\":0,\"ticks\":\"\"},\"type\":\"choropleth\"}],\"contourcarpet\":[{\"colorbar\":{\"outlinewidth\":0,\"ticks\":\"\"},\"type\":\"contourcarpet\"}],\"contour\":[{\"colorbar\":{\"outlinewidth\":0,\"ticks\":\"\"},\"colorscale\":[[0.0,\"#0d0887\"],[0.1111111111111111,\"#46039f\"],[0.2222222222222222,\"#7201a8\"],[0.3333333333333333,\"#9c179e\"],[0.4444444444444444,\"#bd3786\"],[0.5555555555555556,\"#d8576b\"],[0.6666666666666666,\"#ed7953\"],[0.7777777777777778,\"#fb9f3a\"],[0.8888888888888888,\"#fdca26\"],[1.0,\"#f0f921\"]],\"type\":\"contour\"}],\"heatmapgl\":[{\"colorbar\":{\"outlinewidth\":0,\"ticks\":\"\"},\"colorscale\":[[0.0,\"#0d0887\"],[0.1111111111111111,\"#46039f\"],[0.2222222222222222,\"#7201a8\"],[0.3333333333333333,\"#9c179e\"],[0.4444444444444444,\"#bd3786\"],[0.5555555555555556,\"#d8576b\"],[0.6666666666666666,\"#ed7953\"],[0.7777777777777778,\"#fb9f3a\"],[0.8888888888888888,\"#fdca26\"],[1.0,\"#f0f921\"]],\"type\":\"heatmapgl\"}],\"heatmap\":[{\"colorbar\":{\"outlinewidth\":0,\"ticks\":\"\"},\"colorscale\":[[0.0,\"#0d0887\"],[0.1111111111111111,\"#46039f\"],[0.2222222222222222,\"#7201a8\"],[0.3333333333333333,\"#9c179e\"],[0.4444444444444444,\"#bd3786\"],[0.5555555555555556,\"#d8576b\"],[0.6666666666666666,\"#ed7953\"],[0.7777777777777778,\"#fb9f3a\"],[0.8888888888888888,\"#fdca26\"],[1.0,\"#f0f921\"]],\"type\":\"heatmap\"}],\"histogram2dcontour\":[{\"colorbar\":{\"outlinewidth\":0,\"ticks\":\"\"},\"colorscale\":[[0.0,\"#0d0887\"],[0.1111111111111111,\"#46039f\"],[0.2222222222222222,\"#7201a8\"],[0.3333333333333333,\"#9c179e\"],[0.4444444444444444,\"#bd3786\"],[0.5555555555555556,\"#d8576b\"],[0.6666666666666666,\"#ed7953\"],[0.7777777777777778,\"#fb9f3a\"],[0.8888888888888888,\"#fdca26\"],[1.0,\"#f0f921\"]],\"type\":\"histogram2dcontour\"}],\"histogram2d\":[{\"colorbar\":{\"outlinewidth\":0,\"ticks\":\"\"},\"colorscale\":[[0.0,\"#0d0887\"],[0.1111111111111111,\"#46039f\"],[0.2222222222222222,\"#7201a8\"],[0.3333333333333333,\"#9c179e\"],[0.4444444444444444,\"#bd3786\"],[0.5555555555555556,\"#d8576b\"],[0.6666666666666666,\"#ed7953\"],[0.7777777777777778,\"#fb9f3a\"],[0.8888888888888888,\"#fdca26\"],[1.0,\"#f0f921\"]],\"type\":\"histogram2d\"}],\"histogram\":[{\"marker\":{\"pattern\":{\"fillmode\":\"overlay\",\"size\":10,\"solidity\":0.2}},\"type\":\"histogram\"}],\"mesh3d\":[{\"colorbar\":{\"outlinewidth\":0,\"ticks\":\"\"},\"type\":\"mesh3d\"}],\"parcoords\":[{\"line\":{\"colorbar\":{\"outlinewidth\":0,\"ticks\":\"\"}},\"type\":\"parcoords\"}],\"pie\":[{\"automargin\":true,\"type\":\"pie\"}],\"scatter3d\":[{\"line\":{\"colorbar\":{\"outlinewidth\":0,\"ticks\":\"\"}},\"marker\":{\"colorbar\":{\"outlinewidth\":0,\"ticks\":\"\"}},\"type\":\"scatter3d\"}],\"scattercarpet\":[{\"marker\":{\"colorbar\":{\"outlinewidth\":0,\"ticks\":\"\"}},\"type\":\"scattercarpet\"}],\"scattergeo\":[{\"marker\":{\"colorbar\":{\"outlinewidth\":0,\"ticks\":\"\"}},\"type\":\"scattergeo\"}],\"scattergl\":[{\"marker\":{\"colorbar\":{\"outlinewidth\":0,\"ticks\":\"\"}},\"type\":\"scattergl\"}],\"scattermapbox\":[{\"marker\":{\"colorbar\":{\"outlinewidth\":0,\"ticks\":\"\"}},\"type\":\"scattermapbox\"}],\"scatterpolargl\":[{\"marker\":{\"colorbar\":{\"outlinewidth\":0,\"ticks\":\"\"}},\"type\":\"scatterpolargl\"}],\"scatterpolar\":[{\"marker\":{\"colorbar\":{\"outlinewidth\":0,\"ticks\":\"\"}},\"type\":\"scatterpolar\"}],\"scatter\":[{\"fillpattern\":{\"fillmode\":\"overlay\",\"size\":10,\"solidity\":0.2},\"type\":\"scatter\"}],\"scatterternary\":[{\"marker\":{\"colorbar\":{\"outlinewidth\":0,\"ticks\":\"\"}},\"type\":\"scatterternary\"}],\"surface\":[{\"colorbar\":{\"outlinewidth\":0,\"ticks\":\"\"},\"colorscale\":[[0.0,\"#0d0887\"],[0.1111111111111111,\"#46039f\"],[0.2222222222222222,\"#7201a8\"],[0.3333333333333333,\"#9c179e\"],[0.4444444444444444,\"#bd3786\"],[0.5555555555555556,\"#d8576b\"],[0.6666666666666666,\"#ed7953\"],[0.7777777777777778,\"#fb9f3a\"],[0.8888888888888888,\"#fdca26\"],[1.0,\"#f0f921\"]],\"type\":\"surface\"}],\"table\":[{\"cells\":{\"fill\":{\"color\":\"#EBF0F8\"},\"line\":{\"color\":\"white\"}},\"header\":{\"fill\":{\"color\":\"#C8D4E3\"},\"line\":{\"color\":\"white\"}},\"type\":\"table\"}]},\"layout\":{\"annotationdefaults\":{\"arrowcolor\":\"#2a3f5f\",\"arrowhead\":0,\"arrowwidth\":1},\"autotypenumbers\":\"strict\",\"coloraxis\":{\"colorbar\":{\"outlinewidth\":0,\"ticks\":\"\"}},\"colorscale\":{\"diverging\":[[0,\"#8e0152\"],[0.1,\"#c51b7d\"],[0.2,\"#de77ae\"],[0.3,\"#f1b6da\"],[0.4,\"#fde0ef\"],[0.5,\"#f7f7f7\"],[0.6,\"#e6f5d0\"],[0.7,\"#b8e186\"],[0.8,\"#7fbc41\"],[0.9,\"#4d9221\"],[1,\"#276419\"]],\"sequential\":[[0.0,\"#0d0887\"],[0.1111111111111111,\"#46039f\"],[0.2222222222222222,\"#7201a8\"],[0.3333333333333333,\"#9c179e\"],[0.4444444444444444,\"#bd3786\"],[0.5555555555555556,\"#d8576b\"],[0.6666666666666666,\"#ed7953\"],[0.7777777777777778,\"#fb9f3a\"],[0.8888888888888888,\"#fdca26\"],[1.0,\"#f0f921\"]],\"sequentialminus\":[[0.0,\"#0d0887\"],[0.1111111111111111,\"#46039f\"],[0.2222222222222222,\"#7201a8\"],[0.3333333333333333,\"#9c179e\"],[0.4444444444444444,\"#bd3786\"],[0.5555555555555556,\"#d8576b\"],[0.6666666666666666,\"#ed7953\"],[0.7777777777777778,\"#fb9f3a\"],[0.8888888888888888,\"#fdca26\"],[1.0,\"#f0f921\"]]},\"colorway\":[\"#636efa\",\"#EF553B\",\"#00cc96\",\"#ab63fa\",\"#FFA15A\",\"#19d3f3\",\"#FF6692\",\"#B6E880\",\"#FF97FF\",\"#FECB52\"],\"font\":{\"color\":\"#2a3f5f\"},\"geo\":{\"bgcolor\":\"white\",\"lakecolor\":\"white\",\"landcolor\":\"#E5ECF6\",\"showlakes\":true,\"showland\":true,\"subunitcolor\":\"white\"},\"hoverlabel\":{\"align\":\"left\"},\"hovermode\":\"closest\",\"mapbox\":{\"style\":\"light\"},\"paper_bgcolor\":\"white\",\"plot_bgcolor\":\"#E5ECF6\",\"polar\":{\"angularaxis\":{\"gridcolor\":\"white\",\"linecolor\":\"white\",\"ticks\":\"\"},\"bgcolor\":\"#E5ECF6\",\"radialaxis\":{\"gridcolor\":\"white\",\"linecolor\":\"white\",\"ticks\":\"\"}},\"scene\":{\"xaxis\":{\"backgroundcolor\":\"#E5ECF6\",\"gridcolor\":\"white\",\"gridwidth\":2,\"linecolor\":\"white\",\"showbackground\":true,\"ticks\":\"\",\"zerolinecolor\":\"white\"},\"yaxis\":{\"backgroundcolor\":\"#E5ECF6\",\"gridcolor\":\"white\",\"gridwidth\":2,\"linecolor\":\"white\",\"showbackground\":true,\"ticks\":\"\",\"zerolinecolor\":\"white\"},\"zaxis\":{\"backgroundcolor\":\"#E5ECF6\",\"gridcolor\":\"white\",\"gridwidth\":2,\"linecolor\":\"white\",\"showbackground\":true,\"ticks\":\"\",\"zerolinecolor\":\"white\"}},\"shapedefaults\":{\"line\":{\"color\":\"#2a3f5f\"}},\"ternary\":{\"aaxis\":{\"gridcolor\":\"white\",\"linecolor\":\"white\",\"ticks\":\"\"},\"baxis\":{\"gridcolor\":\"white\",\"linecolor\":\"white\",\"ticks\":\"\"},\"bgcolor\":\"#E5ECF6\",\"caxis\":{\"gridcolor\":\"white\",\"linecolor\":\"white\",\"ticks\":\"\"}},\"title\":{\"x\":0.05},\"xaxis\":{\"automargin\":true,\"gridcolor\":\"white\",\"linecolor\":\"white\",\"ticks\":\"\",\"title\":{\"standoff\":15},\"zerolinecolor\":\"white\",\"zerolinewidth\":2},\"yaxis\":{\"automargin\":true,\"gridcolor\":\"white\",\"linecolor\":\"white\",\"ticks\":\"\",\"title\":{\"standoff\":15},\"zerolinecolor\":\"white\",\"zerolinewidth\":2}}},\"title\":{\"text\":\"Network\"},\"width\":800},                        {\"responsive\": true}                    ).then(function(){\n",
       "                            \n",
       "var gd = document.getElementById('c838f629-596e-40c7-8edd-24698cece92c');\n",
       "var x = new MutationObserver(function (mutations, observer) {{\n",
       "        var display = window.getComputedStyle(gd).display;\n",
       "        if (!display || display === 'none') {{\n",
       "            console.log([gd, 'removed!']);\n",
       "            Plotly.purge(gd);\n",
       "            observer.disconnect();\n",
       "        }}\n",
       "}});\n",
       "\n",
       "// Listen for the removal of the full notebook cells\n",
       "var notebookContainer = gd.closest('#notebook-container');\n",
       "if (notebookContainer) {{\n",
       "    x.observe(notebookContainer, {childList: true});\n",
       "}}\n",
       "\n",
       "// Listen for the clearing of the current output cell\n",
       "var outputEl = gd.closest('.output');\n",
       "if (outputEl) {{\n",
       "    x.observe(outputEl, {childList: true});\n",
       "}}\n",
       "\n",
       "                        })                };                });            </script>        </div>"
      ]
     },
     "metadata": {},
     "output_type": "display_data"
    }
   ],
   "source": [
    "G = nx.Graph()\n",
    "G.add_nodes_from(sub_nodes['nodes'])\n",
    "edges = [(row['source'], row['target']) for index, row in sub_links.iterrows()]\n",
    "G.add_edges_from(edges)\n",
    "\n",
    "# Define the layout of the graph\n",
    "layout = go.Layout(\n",
    "    title=\"Network\",\n",
    "    showlegend=False,\n",
    "    hovermode='closest',\n",
    "    width=800,\n",
    "    height=600\n",
    ")\n",
    "\n",
    "plotly_graph = nx.spring_layout(G)  \n",
    "\n",
    "# Create node positions\n",
    "node_x = []\n",
    "node_y = []\n",
    "for node in plotly_graph:\n",
    "    x, y = plotly_graph[node]\n",
    "    node_x.append(x)\n",
    "    node_y.append(y)\n",
    "\n",
    "color_mapping = {\n",
    "    'cell': 'red',\n",
    "    'clone': 'blue',\n",
    "}\n",
    "node_colors = [color_mapping.get(category, 'gray') for category in sub_nodes['type']]\n",
    "\n",
    "node_trace = go.Scatter(\n",
    "    x=node_x,\n",
    "    y=node_y,\n",
    "    mode='markers+text',  # Add 'text' mode to display labels\n",
    "    #\"hoverinfo='text',\n",
    "    text=sub_nodes['nodes'],  # Set the labels to node names\n",
    "    textposition='bottom center',  # Adjust the label position\n",
    "    marker=dict(\n",
    "        showscale=False,\n",
    "        color=node_colors,\n",
    "        size=10\n",
    "    )\n",
    ")\n",
    "\n",
    "edge_x = []\n",
    "edge_y = []\n",
    "for edge in G.edges():\n",
    "    x0, y0 = plotly_graph[edge[0]]\n",
    "    x1, y1 = plotly_graph[edge[1]]\n",
    "    edge_x.append(x0)\n",
    "    edge_x.append(x1)\n",
    "    edge_x.append(None)\n",
    "    edge_y.append(y0)\n",
    "    edge_y.append(y1)\n",
    "    edge_y.append(None)\n",
    "\n",
    "edge_trace = go.Scatter(\n",
    "    x=edge_x,\n",
    "    y=edge_y,\n",
    "    line=dict(width=0.5, color='#888'),\n",
    "    hoverinfo='none',\n",
    "    mode='lines'\n",
    ")\n",
    "\n",
    "fig = go.Figure(data=[edge_trace, node_trace], layout=layout)\n",
    "\n",
    "iplot(fig)"
   ]
  },
  {
   "cell_type": "code",
   "execution_count": 199,
   "id": "591d4266-82ef-44ac-9a23-d03233f010ac",
   "metadata": {},
   "outputs": [
    {
     "data": {
      "text/html": [
       "<div>\n",
       "<style scoped>\n",
       "    .dataframe tbody tr th:only-of-type {\n",
       "        vertical-align: middle;\n",
       "    }\n",
       "\n",
       "    .dataframe tbody tr th {\n",
       "        vertical-align: top;\n",
       "    }\n",
       "\n",
       "    .dataframe thead th {\n",
       "        text-align: right;\n",
       "    }\n",
       "</style>\n",
       "<table border=\"1\" class=\"dataframe\">\n",
       "  <thead>\n",
       "    <tr style=\"text-align: right;\">\n",
       "      <th></th>\n",
       "      <th>CellTagV1</th>\n",
       "      <th>CellTagV2</th>\n",
       "      <th>CellTagV3</th>\n",
       "    </tr>\n",
       "  </thead>\n",
       "  <tbody>\n",
       "    <tr>\n",
       "      <th>CCGTTCAGTTTGTTTC-1</th>\n",
       "      <td>95</td>\n",
       "      <td>147</td>\n",
       "      <td>26</td>\n",
       "    </tr>\n",
       "    <tr>\n",
       "      <th>CTCCTAGTCATATCGG-1</th>\n",
       "      <td>95</td>\n",
       "      <td>e</td>\n",
       "      <td>e</td>\n",
       "    </tr>\n",
       "    <tr>\n",
       "      <th>CGGACACCACCGAATT-1</th>\n",
       "      <td>95</td>\n",
       "      <td>109</td>\n",
       "      <td>e</td>\n",
       "    </tr>\n",
       "    <tr>\n",
       "      <th>CTACACCGTAGGGACT-1</th>\n",
       "      <td>95</td>\n",
       "      <td>109</td>\n",
       "      <td>e</td>\n",
       "    </tr>\n",
       "    <tr>\n",
       "      <th>CGTAGGCAGCGATAGC-1</th>\n",
       "      <td>95</td>\n",
       "      <td>147</td>\n",
       "      <td>e</td>\n",
       "    </tr>\n",
       "    <tr>\n",
       "      <th>GAAACTCTCAATACCG-1</th>\n",
       "      <td>95</td>\n",
       "      <td>109</td>\n",
       "      <td>e</td>\n",
       "    </tr>\n",
       "    <tr>\n",
       "      <th>GCATGATGTACCCAAT-1</th>\n",
       "      <td>95</td>\n",
       "      <td>e</td>\n",
       "      <td>e</td>\n",
       "    </tr>\n",
       "    <tr>\n",
       "      <th>TTGCCGTAGTACACCT-1</th>\n",
       "      <td>95</td>\n",
       "      <td>109</td>\n",
       "      <td>e</td>\n",
       "    </tr>\n",
       "    <tr>\n",
       "      <th>ATCGAGTTCCCTAATT-1</th>\n",
       "      <td>95</td>\n",
       "      <td>109</td>\n",
       "      <td>e</td>\n",
       "    </tr>\n",
       "    <tr>\n",
       "      <th>CGACCTTTCTACCTGC-1</th>\n",
       "      <td>95</td>\n",
       "      <td>147</td>\n",
       "      <td>26</td>\n",
       "    </tr>\n",
       "    <tr>\n",
       "      <th>TTGAACGCATCAGTAC-1</th>\n",
       "      <td>95</td>\n",
       "      <td>147</td>\n",
       "      <td>e</td>\n",
       "    </tr>\n",
       "    <tr>\n",
       "      <th>TAGACCACAATGACCT-1</th>\n",
       "      <td>95</td>\n",
       "      <td>147</td>\n",
       "      <td>e</td>\n",
       "    </tr>\n",
       "  </tbody>\n",
       "</table>\n",
       "</div>"
      ],
      "text/plain": [
       "                   CellTagV1 CellTagV2 CellTagV3\n",
       "CCGTTCAGTTTGTTTC-1        95       147        26\n",
       "CTCCTAGTCATATCGG-1        95         e         e\n",
       "CGGACACCACCGAATT-1        95       109         e\n",
       "CTACACCGTAGGGACT-1        95       109         e\n",
       "CGTAGGCAGCGATAGC-1        95       147         e\n",
       "GAAACTCTCAATACCG-1        95       109         e\n",
       "GCATGATGTACCCAAT-1        95         e         e\n",
       "TTGCCGTAGTACACCT-1        95       109         e\n",
       "ATCGAGTTCCCTAATT-1        95       109         e\n",
       "CGACCTTTCTACCTGC-1        95       147        26\n",
       "TTGAACGCATCAGTAC-1        95       147         e\n",
       "TAGACCACAATGACCT-1        95       147         e"
      ]
     },
     "execution_count": 199,
     "metadata": {},
     "output_type": "execute_result"
    }
   ],
   "source": [
    "celltag_data[celltag_data['CellTagV1']==95]"
   ]
  }
 ],
 "metadata": {
  "kernelspec": {
   "display_name": "Python 3 (ipykernel)",
   "language": "python",
   "name": "python3"
  },
  "language_info": {
   "codemirror_mode": {
    "name": "ipython",
    "version": 3
   },
   "file_extension": ".py",
   "mimetype": "text/x-python",
   "name": "python",
   "nbconvert_exporter": "python",
   "pygments_lexer": "ipython3",
   "version": "3.10.12"
  }
 },
 "nbformat": 4,
 "nbformat_minor": 5
}
